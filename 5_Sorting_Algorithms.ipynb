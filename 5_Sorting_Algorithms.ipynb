{
 "cells": [
  {
   "cell_type": "markdown",
   "metadata": {},
   "source": [
    "# SORTING ALGORITHMS"
   ]
  },
  {
   "cell_type": "markdown",
   "metadata": {},
   "source": [
    "## BUBBLE SORT ALGORITHM\n",
    "* Bubble sort is an algorithm to sort a list through repeated swaps of adjacents elements. It has a runtime of O(N²)\n",
    "* It is good for nearly sorted list because it performs few operations\n",
    "* It is a good introductory algorithm"
   ]
  },
  {
   "cell_type": "code",
   "execution_count": 1,
   "metadata": {},
   "outputs": [
    {
     "name": "stdout",
     "output_type": "stream",
     "text": [
      "PRE SORT: [9, 8, 7, 6, 5, 4, 3, 2, 1]\n"
     ]
    }
   ],
   "source": [
    "nums = [9, 8, 7, 6, 5, 4, 3, 2, 1]\n",
    "print(\"PRE SORT: {0}\".format(nums))"
   ]
  },
  {
   "cell_type": "code",
   "execution_count": 2,
   "metadata": {},
   "outputs": [],
   "source": [
    "def swap(arr, index_1, index_2):\n",
    "    temp = arr[index_1]\n",
    "    arr[index_1] = arr[index_2]\n",
    "    arr[index_2] = temp"
   ]
  },
  {
   "cell_type": "markdown",
   "metadata": {},
   "source": [
    "### Unoptimized bubble sort\n",
    "We perform all the possible iterations"
   ]
  },
  {
   "cell_type": "code",
   "execution_count": 3,
   "metadata": {
    "scrolled": true
   },
   "outputs": [],
   "source": [
    "def bubble_sort_unoptimized(arr):\n",
    "    iteration_count = 0\n",
    "    for el in arr:\n",
    "        for index in range(len(arr) - 1):\n",
    "            iteration_count += 1\n",
    "            if arr[index] > arr[index + 1]:\n",
    "                swap(arr, index, index + 1)\n",
    "\n",
    "    print(\"PRE-OPTIMIZED ITERATION COUNT: {0}\".format(iteration_count))"
   ]
  },
  {
   "cell_type": "markdown",
   "metadata": {},
   "source": [
    "### Optmized bubble sort\n",
    "We don't consider the last element again"
   ]
  },
  {
   "cell_type": "code",
   "execution_count": 4,
   "metadata": {},
   "outputs": [],
   "source": [
    "def bubble_sort(arr):\n",
    "    iteration_count = 0\n",
    "    for i in range(len(arr)):\n",
    "    # iterate through unplaced elements\n",
    "        for idx in range(len(arr) - i - 1):\n",
    "            iteration_count += 1\n",
    "            if arr[idx] > arr[idx + 1]:\n",
    "            # replacement for swap function\n",
    "                arr[idx], arr[idx + 1] = arr[idx + 1], arr[idx]\n",
    "        \n",
    "    print(\"POST-OPTIMIZED ITERATION COUNT: {0}\".format(iteration_count))\n"
   ]
  },
  {
   "cell_type": "code",
   "execution_count": 5,
   "metadata": {
    "scrolled": true
   },
   "outputs": [
    {
     "name": "stdout",
     "output_type": "stream",
     "text": [
      "PRE-OPTIMIZED ITERATION COUNT: 72\n",
      "POST-OPTIMIZED ITERATION COUNT: 36\n",
      "POST SORT: [1, 2, 3, 4, 5, 6, 7, 8, 9]\n"
     ]
    }
   ],
   "source": [
    "bubble_sort_unoptimized(nums.copy())\n",
    "bubble_sort(nums)\n",
    "print(\"POST SORT: {0}\".format(nums))"
   ]
  },
  {
   "cell_type": "markdown",
   "metadata": {},
   "source": [
    "## MERGE SORT ALGORITHM\n",
    "Merge sort takes two steps: spliting the data into \"runs\" or smaller components, and then re-combining those runs into sorted lists(\"the merge\")\n",
    "Merge sort in the best, worst and avergase case will take a timple complexity of O(N*log(N))."
   ]
  },
  {
   "cell_type": "code",
   "execution_count": 6,
   "metadata": {},
   "outputs": [],
   "source": [
    "def merge_sort(items):\n",
    "    if len(items) <= 1:\n",
    "        return items\n",
    "\n",
    "    middle_index = len(items) // 2\n",
    "    left_split = items[:middle_index]\n",
    "    right_split = items[middle_index:]\n",
    "\n",
    "    left_sorted = merge_sort(left_split) #Recursive left\n",
    "    right_sorted = merge_sort(right_split) #Recursive right\n",
    "\n",
    "    return merge(left_sorted, right_sorted) "
   ]
  },
  {
   "cell_type": "code",
   "execution_count": 7,
   "metadata": {},
   "outputs": [],
   "source": [
    "def merge(left, right):\n",
    "    result = []\n",
    "\n",
    "    while (left and right):\n",
    "        if left[0] < right[0]:\n",
    "            result.append(left[0])\n",
    "            left.pop(0)\n",
    "        else:\n",
    "            result.append(right[0])\n",
    "            right.pop(0)\n",
    "\n",
    "    if left:\n",
    "        result += left\n",
    "    if right:\n",
    "        result += right\n",
    "\n",
    "    return result"
   ]
  },
  {
   "cell_type": "code",
   "execution_count": 8,
   "metadata": {},
   "outputs": [
    {
     "name": "stdout",
     "output_type": "stream",
     "text": [
      "[125, 264, 356, 455, 569, 746, 895, 949] [19, 113, 180, 201, 202, 268, 276, 318, 370, 373, 391, 403, 534, 543, 571, 595, 624, 677, 717, 770, 787, 795, 975] [147, 151, 380, 387, 439, 542, 585, 743, 820, 860, 865, 924]\n"
     ]
    }
   ],
   "source": [
    "unordered_list1 = [356, 746, 264, 569, 949, 895, 125, 455]\n",
    "unordered_list2 = [787, 677, 391, 318, 543, 717, 180, 113, 795, 19, 202, 534, 201, 370, 276, 975, 403, 624, 770, 595, 571, 268, 373]\n",
    "unordered_list3 = [860, 380, 151, 585, 743, 542, 147, 820, 439, 865, 924, 387]\n",
    "ordered_list1 = merge_sort(unordered_list1)\n",
    "ordered_list2 = merge_sort(unordered_list2)\n",
    "ordered_list3 = merge_sort(unordered_list3)\n",
    "\n",
    "print(ordered_list1,ordered_list2,ordered_list3)"
   ]
  },
  {
   "cell_type": "markdown",
   "metadata": {},
   "source": [
    "## QUICK SORT ALGORITHM\n",
    "Quicksort is an efficient algorithm for sorting values in a list. A single element, the pivot, is chosen from the list. All the remaining values are partitioned into two sub-lists containing the values smaller than and greater than the pivot element."
   ]
  },
  {
   "cell_type": "code",
   "execution_count": 9,
   "metadata": {},
   "outputs": [],
   "source": [
    "from random import randrange, shuffle\n",
    "\n",
    "def quicksort(list, start, end):\n",
    "  # this portion of list has been sorted\n",
    "    if start >= end:\n",
    "        return\n",
    "    print(\"Running quicksort on {0}\".format(list[start: end + 1]))\n",
    "    # select random element to be pivot\n",
    "    pivot_idx = randrange(start, end + 1)\n",
    "    pivot_element = list[pivot_idx]\n",
    "    print(\"Selected pivot {0}\".format(pivot_element))\n",
    "    # swap random element with last element in sub-lists\n",
    "    list[end], list[pivot_idx] = list[pivot_idx], list[end]\n",
    "\n",
    "    # tracks all elements which should be to left (lesser than) pivot\n",
    "    less_than_pointer = start\n",
    "  \n",
    "    for i in range(start, end):\n",
    "    # we found an element out of place\n",
    "        if list[i] < pivot_element:\n",
    "            # swap element to the right-most portion of lesser elements\n",
    "            print(\"Swapping {0} with {1}\".format(list[i], pivot_element))\n",
    "            list[i], list[less_than_pointer] = list[less_than_pointer], list[i]\n",
    "            # tally that we have one more lesser element\n",
    "            less_than_pointer += 1\n",
    "    \n",
    "    # move pivot element to the right-most portion of lesser elements\n",
    "    list[end], list[less_than_pointer] = list[less_than_pointer], list[end]\n",
    "    print(\"{0} successfully partitioned\".format(list[start: end + 1]))\n",
    "    # recursively sort left and right sub-lists\n",
    "    quicksort(list, start, less_than_pointer - 1)\n",
    "    quicksort(list, less_than_pointer + 1, end)"
   ]
  },
  {
   "cell_type": "code",
   "execution_count": 10,
   "metadata": {},
   "outputs": [
    {
     "name": "stdout",
     "output_type": "stream",
     "text": [
      "PRE SORT:  [7, 1, 5, 2, 3, 6, 8, 4]\n",
      "Running quicksort on [7, 1, 5, 2, 3, 6, 8, 4]\n",
      "Selected pivot 8\n",
      "Swapping 7 with 8\n",
      "Swapping 1 with 8\n",
      "Swapping 5 with 8\n",
      "Swapping 2 with 8\n",
      "Swapping 3 with 8\n",
      "Swapping 6 with 8\n",
      "Swapping 4 with 8\n",
      "[7, 1, 5, 2, 3, 6, 4, 8] successfully partitioned\n",
      "Running quicksort on [7, 1, 5, 2, 3, 6, 4]\n",
      "Selected pivot 7\n",
      "Swapping 4 with 7\n",
      "Swapping 1 with 7\n",
      "Swapping 5 with 7\n",
      "Swapping 2 with 7\n",
      "Swapping 3 with 7\n",
      "Swapping 6 with 7\n",
      "[4, 1, 5, 2, 3, 6, 7] successfully partitioned\n",
      "Running quicksort on [4, 1, 5, 2, 3, 6]\n",
      "Selected pivot 2\n",
      "Swapping 1 with 2\n",
      "[1, 2, 5, 6, 3, 4] successfully partitioned\n",
      "Running quicksort on [5, 6, 3, 4]\n",
      "Selected pivot 6\n",
      "Swapping 5 with 6\n",
      "Swapping 4 with 6\n",
      "Swapping 3 with 6\n",
      "[5, 4, 3, 6] successfully partitioned\n",
      "Running quicksort on [5, 4, 3]\n",
      "Selected pivot 5\n",
      "Swapping 3 with 5\n",
      "Swapping 4 with 5\n",
      "[3, 4, 5] successfully partitioned\n",
      "Running quicksort on [3, 4]\n",
      "Selected pivot 4\n",
      "Swapping 3 with 4\n",
      "[3, 4] successfully partitioned\n",
      "None\n",
      "POST SORT:  [1, 2, 3, 4, 5, 6, 7, 8]\n"
     ]
    }
   ],
   "source": [
    "list = [5,3,1,7,4,6,2,8]\n",
    "shuffle(list)\n",
    "print(\"PRE SORT: \", list)\n",
    "print(quicksort(list, 0, len(list) -1))\n",
    "print(\"POST SORT: \", list)"
   ]
  },
  {
   "cell_type": "markdown",
   "metadata": {},
   "source": [
    "## RADIX SORT\n",
    "\n",
    "* A radix is the base of a number system. For the decimal number system, the radix is 10.\n",
    "* Radix sort has two variants - MSD and LSD\n",
    "* Numbers are bucketed based on the value of digits moving left to right (for MSD) or right to left (for LSD)\n",
    "* Radix sort is considered a non-comparison sort\n",
    "* The performance of radix sort is O(n)"
   ]
  },
  {
   "cell_type": "code",
   "execution_count": 11,
   "metadata": {},
   "outputs": [
    {
     "name": "stdout",
     "output_type": "stream",
     "text": [
      "[89, 40, 1, 163, 199, 183, 182, 373, 355, 559, 535, 524, 641, 689, 621, 830, 921, 961, 959]\n"
     ]
    }
   ],
   "source": [
    "def radix_sort(to_be_sorted):\n",
    "    maximum_value = max(to_be_sorted)\n",
    "    max_exponent = len(str(maximum_value))\n",
    "    being_sorted = to_be_sorted[:]\n",
    "\n",
    "    for exponent in range(max_exponent):\n",
    "        position = exponent + 1\n",
    "        index = -position\n",
    "\n",
    "        digits = [[] for i in range(10)]\n",
    "\n",
    "    for number in being_sorted:\n",
    "        number_as_a_string = str(number)\n",
    "        try:\n",
    "            digit = number_as_a_string[index]\n",
    "        except IndexError:\n",
    "            digit = 0\n",
    "        digit = int(digit)\n",
    "\n",
    "        digits[digit].append(number)\n",
    "\n",
    "    being_sorted = []\n",
    "    for numeral in digits:\n",
    "        being_sorted.extend(numeral)\n",
    "\n",
    "    return being_sorted\n",
    "\n",
    "unsorted_list = [830, 921, 163, 373, 961, 559, 89, 199, 535, 959, 40, 641, 355, 689, 621, 183, 182, 524, 1]\n",
    "print(radix_sort(unsorted_list))"
   ]
  }
 ],
 "metadata": {
  "kernelspec": {
   "display_name": "Python (Messi)",
   "language": "python",
   "name": "messi"
  },
  "language_info": {
   "codemirror_mode": {
    "name": "ipython",
    "version": 3
   },
   "file_extension": ".py",
   "mimetype": "text/x-python",
   "name": "python",
   "nbconvert_exporter": "python",
   "pygments_lexer": "ipython3",
   "version": "3.6.4"
  }
 },
 "nbformat": 4,
 "nbformat_minor": 2
}
