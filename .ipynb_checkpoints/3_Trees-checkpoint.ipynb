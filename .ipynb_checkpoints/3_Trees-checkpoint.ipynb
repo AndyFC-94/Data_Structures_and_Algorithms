{
 "cells": [
  {
   "cell_type": "markdown",
   "metadata": {},
   "source": [
    "## Trees Data Structure"
   ]
  },
  {
   "cell_type": "code",
   "execution_count": 1,
   "metadata": {},
   "outputs": [],
   "source": [
    "class TreeNode:\n",
    "    def __init__(self, value):\n",
    "        self.value = value # data\n",
    "        self.children = [] # references to other nodes\n",
    "\n",
    "    def add_child(self, child_node):\n",
    "        # creates parent-child relationship\n",
    "        print(\"Adding \" + child_node.value + \" to \" + self.value)\n",
    "        self.children.append(child_node) \n",
    "    \n",
    "    def remove_child(self, child_node):\n",
    "        # removes parent-child relationship\n",
    "        print(\"Removing \" + child_node.value + \" from \" + self.value)\n",
    "        self.children = [child for child in self.children if child is not child_node]\n",
    "\n",
    "    def traverse(self):\n",
    "        # moves through each node referenced from self downwards\n",
    "        nodes_to_visit = [self]\n",
    "        while len(nodes_to_visit) > 0:\n",
    "            current_node = nodes_to_visit.pop()\n",
    "            print(current_node.value)\n",
    "            nodes_to_visit += current_node.children\n"
   ]
  },
  {
   "cell_type": "code",
   "execution_count": 2,
   "metadata": {
    "scrolled": true
   },
   "outputs": [
    {
     "name": "stdout",
     "output_type": "stream",
     "text": [
      "Adding Vice-President to CEO\n",
      "Adding Head of Marketing to CEO\n",
      "Adding Marketing Assistant to Head of Marketing\n",
      "CEO\n",
      "Head of Marketing\n",
      "Marketing Assistant\n",
      "Vice-President\n"
     ]
    }
   ],
   "source": [
    "root = TreeNode(\"CEO\")\n",
    "first_child = TreeNode(\"Vice-President\")\n",
    "second_child = TreeNode(\"Head of Marketing\")\n",
    "third_child = TreeNode(\"Marketing Assistant\")\n",
    "\n",
    "root.add_child(first_child)\n",
    "#root.traverse()\n",
    "#root.remove_child(first_child)\n",
    "#root.traverse()\n",
    "\n",
    "root.add_child(second_child)\n",
    "second_child.add_child(third_child)\n",
    "\n",
    "root.traverse()"
   ]
  },
  {
   "cell_type": "markdown",
   "metadata": {},
   "source": [
    "### PROJECT - BEAR STORY"
   ]
  },
  {
   "cell_type": "code",
   "execution_count": 3,
   "metadata": {},
   "outputs": [],
   "source": [
    "######\n",
    "# TREENODE CLASS\n",
    "######\n",
    "class TreeNode:\n",
    "      def __init__(self, story_piece):\n",
    "        self.story_piece = story_piece;\n",
    "        self.choices = []\n",
    "    \n",
    "      def add_child(self, children):\n",
    "        self.choices.append(children)\n",
    "    \n",
    "      def traverse(self):\n",
    "        story_node = self\n",
    "        print(story_node.story_piece)\n",
    "    \n",
    "        while len(story_node.choices) > 0:\n",
    "            choice = input(\"Enter 1 or 2 to continue: \")\n",
    "            if choice in [\"1\",\"2\"]:\n",
    "                chosen_index = int(choice)\n",
    "                chosen_index -= 1\n",
    "                chosen_child = story_node.choices[chosen_index]\n",
    "                print(chosen_child.story_piece)\n",
    "                story_node = chosen_child\n",
    "            else:\n",
    "                print(\"Insert a correct choice\")"
   ]
  },
  {
   "cell_type": "code",
   "execution_count": 4,
   "metadata": {},
   "outputs": [],
   "source": [
    "        \n",
    "######\n",
    "# VARIABLES FOR TREE\n",
    "######\n",
    "story_root = \"\"\"\n",
    "You are in a forest clearing. There is a path to the left.\n",
    "A bear emerges from the trees and roars!\n",
    "Do you: \n",
    "1 ) Roar back!\n",
    "2 ) Run to the left...\n",
    "\"\"\"\n",
    "\n",
    "choice_a = \"\"\"\n",
    "The bear is startled and runs away.\n",
    "Do you:\n",
    "1 ) Shout 'Sorry bear!'\n",
    "2 ) Yell 'Hooray!'\n",
    "\"\"\"\n",
    "\n",
    "choice_b = \"\"\"\n",
    "You come across a clearing full of flowers. \n",
    "The bear follows you and asks 'what gives?'\n",
    "Do you:\n",
    "1 ) Gasp 'A talking bear!'\n",
    "2 ) Explain that the bear scared you.\n",
    "\"\"\"\n",
    "\n",
    "choice_a_1 = \"\"\"\n",
    "The bear returns and tells you it's been a rough week. After making peace with\n",
    "a talking bear, he shows you the way out of the forest.\n",
    "\n",
    "YOU HAVE ESCAPED THE WILDERNESS.\n",
    "\"\"\"\n",
    "\n",
    "choice_a_2 = \"\"\"\n",
    "The bear returns and tells you that bullying is not okay before leaving you alone\n",
    "in the wilderness.\n",
    "\n",
    "YOU REMAIN LOST.\n",
    "\"\"\"\n",
    "choice_b_1= \"\"\"\n",
    "The bear is unamused. After smelling the flowers, it turns around and leaves you alone.\n",
    "\n",
    "YOU REMAIN LOST.\n",
    "\"\"\"\n",
    "choice_b_2 = \"\"\"\n",
    "The bear understands and apologizes for startling you. Your new friend shows you a \n",
    "path leading out of the forest.\n",
    "\n",
    "YOU HAVE ESCAPED THE WILDERNESS.\n",
    "\"\"\"\n",
    "\n"
   ]
  },
  {
   "cell_type": "code",
   "execution_count": 5,
   "metadata": {},
   "outputs": [
    {
     "name": "stdout",
     "output_type": "stream",
     "text": [
      "\n",
      "You are in a forest clearing. There is a path to the left.\n",
      "A bear emerges from the trees and roars!\n",
      "Do you: \n",
      "1 ) Roar back!\n",
      "2 ) Run to the left...\n",
      "\n",
      "Enter 1 or 2 to continue: 1\n",
      "\n",
      "The bear is startled and runs away.\n",
      "Do you:\n",
      "1 ) Shout 'Sorry bear!'\n",
      "2 ) Yell 'Hooray!'\n",
      "\n",
      "Enter 1 or 2 to continue: 2\n",
      "\n",
      "The bear returns and tells you that bullying is not okay before leaving you alone\n",
      "in the wilderness.\n",
      "\n",
      "YOU REMAIN LOST.\n",
      "\n"
     ]
    }
   ],
   "source": [
    "\n",
    "######\n",
    "# TESTING AREA\n",
    "######\n",
    "root = TreeNode(story_root)\n",
    "#user_choice = input(\"What is your name? \")\n",
    "#print(user_choice)\n",
    "a_choice = TreeNode(choice_a)\n",
    "b_choice = TreeNode(choice_b)\n",
    "\n",
    "a_choice_1 = TreeNode(choice_a_1)\n",
    "a_choice_2 = TreeNode(choice_a_2)\n",
    "\n",
    "b_choice_1 = TreeNode(choice_b_1)\n",
    "b_choice_2 = TreeNode(choice_b_2)\n",
    "\n",
    "root.add_child(a_choice)\n",
    "root.add_child(b_choice)\n",
    "\n",
    "a_choice.add_child(a_choice_1)\n",
    "a_choice.add_child(a_choice_2)\n",
    "\n",
    "b_choice.add_child(b_choice_1)\n",
    "b_choice.add_child(b_choice_2)\n",
    "\n",
    "root.traverse()\n"
   ]
  }
 ],
 "metadata": {
  "kernelspec": {
   "display_name": "Python (Messi)",
   "language": "python",
   "name": "messi"
  },
  "language_info": {
   "codemirror_mode": {
    "name": "ipython",
    "version": 3
   },
   "file_extension": ".py",
   "mimetype": "text/x-python",
   "name": "python",
   "nbconvert_exporter": "python",
   "pygments_lexer": "ipython3",
   "version": "3.6.4"
  }
 },
 "nbformat": 4,
 "nbformat_minor": 2
}
