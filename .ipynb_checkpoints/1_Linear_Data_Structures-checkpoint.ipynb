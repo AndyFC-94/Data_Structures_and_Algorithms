{
 "cells": [
  {
   "cell_type": "markdown",
   "metadata": {},
   "source": [
    "# LINEAR DATA STRUCTURES"
   ]
  },
  {
   "cell_type": "markdown",
   "metadata": {},
   "source": [
    "# Nodes"
   ]
  },
  {
   "cell_type": "markdown",
   "metadata": {},
   "source": [
    "Basic node that contains data and one link to another node. The node’s data will be specified when creating the node and immutable (can’t be updated). The link will be optional at initialization and can be updated."
   ]
  },
  {
   "cell_type": "code",
   "execution_count": 1,
   "metadata": {},
   "outputs": [],
   "source": [
    "class Node:\n",
    "    def __init__(self,value, link_node=None):\n",
    "        self.value = value\n",
    "        self.link_node = link_node\n",
    "        \n",
    "    def get_value(self):\n",
    "        return self.value\n",
    "    \n",
    "    def get_link_node(self):\n",
    "        return self.link_node\n",
    "    \n",
    "    def set_link_node(self, link_node):\n",
    "        self.link_node = link_node"
   ]
  },
  {
   "cell_type": "markdown",
   "metadata": {},
   "source": [
    "Instantiate three nodes and set link nodes to yacko and dot"
   ]
  },
  {
   "cell_type": "code",
   "execution_count": 2,
   "metadata": {},
   "outputs": [],
   "source": [
    "yacko = Node(\"likes to yak\")\n",
    "wacko = Node(\"has a penchant for hoarding snacks\")\n",
    "dot = Node(\"enjoys spending time in movie lots\")\n",
    "\n",
    "yacko.set_link_node(dot)\n",
    "dot.set_link_node(wacko)"
   ]
  },
  {
   "cell_type": "markdown",
   "metadata": {},
   "source": [
    "Use both getter methods to get dot‘s value from yacko and get wacko‘s value from dot"
   ]
  },
  {
   "cell_type": "code",
   "execution_count": 3,
   "metadata": {},
   "outputs": [
    {
     "name": "stdout",
     "output_type": "stream",
     "text": [
      "enjoys spending time in movie lots\n",
      "has a penchant for hoarding snacks\n"
     ]
    }
   ],
   "source": [
    "dots_data =yacko.get_link_node().get_value()\n",
    "wackos_data = dot.get_link_node().get_value()\n",
    "\n",
    "print(dots_data)\n",
    "print(wackos_data)"
   ]
  },
  {
   "cell_type": "markdown",
   "metadata": {},
   "source": [
    "# Linked List"
   ]
  },
  {
   "cell_type": "code",
   "execution_count": 4,
   "metadata": {},
   "outputs": [],
   "source": [
    "class Node:\n",
    "    def __init__(self,value, next_node=None):\n",
    "        self.value = value\n",
    "        self.next_node = next_node\n",
    "        \n",
    "    def get_value(self):\n",
    "        return self.value\n",
    "    \n",
    "    def get_next_node(self):\n",
    "        return self.next_node\n",
    "    \n",
    "    def set_next_node(self, next_node):\n",
    "        self.next_node = next_node"
   ]
  },
  {
   "cell_type": "code",
   "execution_count": 5,
   "metadata": {
    "scrolled": true
   },
   "outputs": [
    {
     "name": "stdout",
     "output_type": "stream",
     "text": [
      "44\n"
     ]
    }
   ],
   "source": [
    "my_node = Node(44)\n",
    "print(my_node.get_value())"
   ]
  },
  {
   "cell_type": "markdown",
   "metadata": {},
   "source": [
    "## Implementation of linked list\n",
    "\n",
    "* get the head node of the list (it’s like peeking at the first item in line)\n",
    "* add a new node to the beginning of the list\n",
    "* print out the list values in order\n",
    "* remove a node that has a particular valu"
   ]
  },
  {
   "cell_type": "code",
   "execution_count": 6,
   "metadata": {},
   "outputs": [],
   "source": [
    "class LinkedList:\n",
    "    def __init__(self, value = None):\n",
    "        self.head_node = Node(value)\n",
    "        \n",
    "    def get_head_node(self):\n",
    "        return self.head_node\n",
    "    \n",
    "    def insert_beginning(self, new_value):\n",
    "        new_node = Node(new_value)\n",
    "        new_node.set_next_node(self.head_node)\n",
    "        self.head_node = new_node\n",
    "        \n",
    "    def stringify_list(self):\n",
    "        # Create an empty string \n",
    "        string_list = \"\"\n",
    "        # Get the current node\n",
    "        current_node = self.get_head_node()\n",
    "        # While the current_node is not \"None\"\n",
    "        while(current_node):\n",
    "            if current_node.get_value()!=None:\n",
    "                string_list += str(current_node.get_value())+\"\\n\"\n",
    "                # Set current node, until it becomes \"None\"\n",
    "                current_node = current_node.get_next_node()\n",
    "        return string_list\n",
    "    \n",
    "    def remove_node(self, value_to_remove):\n",
    "        # Get the current node\n",
    "        current_node = self.head_node\n",
    "        # First, we evaluate if the current node value is the same that we are looking for\n",
    "        if current_node.get_value() == value_to_remove:\n",
    "            # If this is the same, replace the head node with the next node\n",
    "            self.head_node = current_node.get_next_node()\n",
    "        else:\n",
    "            # If we dont find the value in the first node, we check the value in the other nodes\n",
    "            # We do the same that we did in stringify\n",
    "            while(current_node):\n",
    "                # Get the next node\n",
    "                next_node = current_node.get_next_node()\n",
    "                # If the value of the next node is the same as the value that we are looking for,\n",
    "                # Set the next node with the linked node of the next node\n",
    "                if next_node.get_value() == value_to_remove:\n",
    "                    current_node.set_next_node(next_node.get_next_node())\n",
    "                    # To terminate the loop\n",
    "                    current_node=None\n",
    "                else:\n",
    "                    # We continue searching in the next node\n",
    "                    current_node = next_node"
   ]
  },
  {
   "cell_type": "code",
   "execution_count": 7,
   "metadata": {},
   "outputs": [
    {
     "name": "stdout",
     "output_type": "stream",
     "text": [
      "5\n",
      "\n"
     ]
    }
   ],
   "source": [
    "ll = LinkedList(5)\n",
    "#ll.insert_beginning(70)\n",
    "#ll.insert_beginning(5675)\n",
    "#ll.insert_beginning(90)\n",
    "print(ll.stringify_list())"
   ]
  },
  {
   "cell_type": "code",
   "execution_count": 8,
   "metadata": {},
   "outputs": [
    {
     "name": "stdout",
     "output_type": "stream",
     "text": [
      "90\n",
      "5675\n",
      "70\n",
      "5\n",
      "\n"
     ]
    }
   ],
   "source": [
    "ll.insert_beginning(70)\n",
    "ll.insert_beginning(5675)\n",
    "ll.insert_beginning(90)\n",
    "print(ll.stringify_list())"
   ]
  },
  {
   "cell_type": "code",
   "execution_count": 9,
   "metadata": {},
   "outputs": [
    {
     "name": "stdout",
     "output_type": "stream",
     "text": [
      "5\n"
     ]
    }
   ],
   "source": [
    "print(ll.get_head_node().get_next_node().get_next_node().get_next_node().get_value())"
   ]
  },
  {
   "cell_type": "code",
   "execution_count": 10,
   "metadata": {},
   "outputs": [
    {
     "name": "stdout",
     "output_type": "stream",
     "text": [
      "90\n",
      "5675\n",
      "5\n",
      "\n"
     ]
    }
   ],
   "source": [
    "ll.remove_node(70)\n",
    "print(ll.stringify_list())"
   ]
  },
  {
   "cell_type": "markdown",
   "metadata": {},
   "source": [
    "# Stacks\n",
    "\n",
    "There are three main methods that we want out stacks to have:\n",
    "* Push - Adds data to the top of the stack\n",
    "* Pop - Provides and remove data from the top of the stack\n",
    "* Peek - Provides data from the top of the stack without removing it\n",
    "\n",
    "We also need to consider the stack’s size and tweak our methods a bit so that our stack does not “overflow”."
   ]
  },
  {
   "cell_type": "code",
   "execution_count": 11,
   "metadata": {},
   "outputs": [],
   "source": [
    "class Stack:\n",
    "    def __init__(self, name, limit = 1000):\n",
    "        self.name = name\n",
    "        self.top_item = None\n",
    "        self.size = 0\n",
    "        self.limit = limit\n",
    "        \n",
    "        \n",
    "    def push(self, value): \n",
    "        if self.has_space():\n",
    "            item = Node(value)\n",
    "            item.set_next_node(self.top_item)\n",
    "            self.top_item = item\n",
    "            self.size +=1\n",
    "            print(\"Adding {} to the {} stack\".format(value, self.name))\n",
    "        else:\n",
    "            print(\"There is no space for {}\".format(value))\n",
    "        \n",
    "    def pop(self):\n",
    "        if not self.is_empty() :\n",
    "            item_to_remove =  self.top_item\n",
    "            self.top_item = item_to_remove.get_next_node()\n",
    "            self.size -=1\n",
    "            print(\"Delivering\")\n",
    "            print(item_to_remove.get_value())\n",
    "            return item_to_remove.get_value()\n",
    "        else:\n",
    "            print(\"{} stack is empty\".format(self.name))\n",
    "        \n",
    "    def peek(self):\n",
    "        if not self.is_empty():\n",
    "            return self.top_item.get_value()\n",
    "        else:\n",
    "            print(\"{} stack is empty\".format(self.name))\n",
    "            \n",
    "    def has_space(self):\n",
    "        if self.limit > self.size :\n",
    "            return True\n",
    "        \n",
    "    def get_size(self):\n",
    "        return self.size\n",
    "  \n",
    "    def get_name(self):\n",
    "        return self.name\n",
    "  \n",
    "    def print_items(self):\n",
    "        pointer = self.top_item\n",
    "        print_list = []\n",
    "        while(pointer):\n",
    "            print_list.append(pointer.get_value())\n",
    "            pointer = pointer.get_next_node()\n",
    "        print_list.reverse()\n",
    "        print(\"{0} Stack: {1}\".format(self.get_name(), print_list))\n",
    "\n",
    "\n",
    "    def is_empty(self):\n",
    "        if self.size == 0:\n",
    "            return True"
   ]
  },
  {
   "cell_type": "code",
   "execution_count": 12,
   "metadata": {},
   "outputs": [],
   "source": [
    "pizza_stack = Stack(\"Pizza\",6)"
   ]
  },
  {
   "cell_type": "code",
   "execution_count": 13,
   "metadata": {},
   "outputs": [
    {
     "name": "stdout",
     "output_type": "stream",
     "text": [
      "Adding pizza #1 to the Pizza stack\n",
      "Adding pizza #2 to the Pizza stack\n",
      "Adding pizza #3 to the Pizza stack\n",
      "Adding pizza #4 to the Pizza stack\n",
      "Adding pizza #5 to the Pizza stack\n",
      "Adding pizza #6 to the Pizza stack\n"
     ]
    }
   ],
   "source": [
    "pizza_stack.push(\"pizza #1\")\n",
    "pizza_stack.push(\"pizza #2\")\n",
    "pizza_stack.push(\"pizza #3\")\n",
    "pizza_stack.push(\"pizza #4\")\n",
    "pizza_stack.push(\"pizza #5\")\n",
    "pizza_stack.push(\"pizza #6\")"
   ]
  },
  {
   "cell_type": "code",
   "execution_count": 14,
   "metadata": {},
   "outputs": [
    {
     "name": "stdout",
     "output_type": "stream",
     "text": [
      "There is no space for pizza #7\n"
     ]
    }
   ],
   "source": [
    "pizza_stack.push(\"pizza #7\")"
   ]
  },
  {
   "cell_type": "code",
   "execution_count": 15,
   "metadata": {},
   "outputs": [
    {
     "name": "stdout",
     "output_type": "stream",
     "text": [
      "The first pizza to deliver is pizza #6\n"
     ]
    }
   ],
   "source": [
    "print(\"The first pizza to deliver is \" + pizza_stack.peek())"
   ]
  },
  {
   "cell_type": "code",
   "execution_count": 16,
   "metadata": {},
   "outputs": [
    {
     "name": "stdout",
     "output_type": "stream",
     "text": [
      "Delivering\n",
      "pizza #6\n"
     ]
    },
    {
     "data": {
      "text/plain": [
       "'pizza #6'"
      ]
     },
     "execution_count": 16,
     "metadata": {},
     "output_type": "execute_result"
    }
   ],
   "source": [
    "pizza_stack.pop()"
   ]
  },
  {
   "cell_type": "code",
   "execution_count": 17,
   "metadata": {},
   "outputs": [
    {
     "name": "stdout",
     "output_type": "stream",
     "text": [
      "Delivering\n",
      "pizza #5\n",
      "Delivering\n",
      "pizza #4\n",
      "Delivering\n",
      "pizza #3\n",
      "Delivering\n",
      "pizza #2\n",
      "Delivering\n",
      "pizza #1\n"
     ]
    },
    {
     "data": {
      "text/plain": [
       "'pizza #1'"
      ]
     },
     "execution_count": 17,
     "metadata": {},
     "output_type": "execute_result"
    }
   ],
   "source": [
    "pizza_stack.pop()\n",
    "pizza_stack.pop()\n",
    "pizza_stack.pop()\n",
    "pizza_stack.pop()\n",
    "pizza_stack.pop()"
   ]
  },
  {
   "cell_type": "code",
   "execution_count": 18,
   "metadata": {},
   "outputs": [
    {
     "name": "stdout",
     "output_type": "stream",
     "text": [
      "Pizza stack is empty\n"
     ]
    }
   ],
   "source": [
    "pizza_stack.pop()"
   ]
  },
  {
   "cell_type": "markdown",
   "metadata": {},
   "source": [
    "## Towers of Hanoi project\n",
    "\n",
    "The objective of the game is to move the stack of disks from the leftmost stack to the rightmost stack.\n",
    "\n",
    "The game follows three rules:\n",
    "\n",
    "* Only one disk can be moved at a time.\n",
    "* Each move consists of taking the upper disk from one of the stacks and placing it on top of another stack or on an empty rod.\n",
    "* No disk may be placed on top of a smaller disk."
   ]
  },
  {
   "cell_type": "code",
   "execution_count": 19,
   "metadata": {},
   "outputs": [
    {
     "name": "stdout",
     "output_type": "stream",
     "text": [
      "Left\n",
      "Middle\n",
      "Right\n"
     ]
    }
   ],
   "source": [
    "# Create the stacks\n",
    "stacks = []\n",
    "left_stack = Stack(\"Left\")\n",
    "middle_stack = Stack(\"Middle\")\n",
    "right_stack = Stack(\"Right\")\n",
    "stacks.append(left_stack)\n",
    "stacks.append(middle_stack)\n",
    "stacks.append(right_stack)\n",
    "for stack in stacks:\n",
    "    print(stack.name)"
   ]
  },
  {
   "cell_type": "code",
   "execution_count": 20,
   "metadata": {},
   "outputs": [
    {
     "name": "stdout",
     "output_type": "stream",
     "text": [
      "\n",
      "How many disks do you want to play with?\n",
      "4\n"
     ]
    }
   ],
   "source": [
    "# Set up the game\n",
    "num_disks = int(input(\"\\nHow many disks do you want to play with?\\n\"))\n",
    "while (num_disks<3):\n",
    "    num_disks = int(input(\"\\nEnter a number greater than or equal to three\\n\"))"
   ]
  },
  {
   "cell_type": "code",
   "execution_count": 21,
   "metadata": {},
   "outputs": [
    {
     "name": "stdout",
     "output_type": "stream",
     "text": [
      "Adding 4 to the Left stack\n",
      "Adding 3 to the Left stack\n",
      "Adding 2 to the Left stack\n",
      "Adding 1 to the Left stack\n"
     ]
    }
   ],
   "source": [
    "for i in range(num_disks, 0, -1):\n",
    "    left_stack.push(i)"
   ]
  },
  {
   "cell_type": "code",
   "execution_count": 22,
   "metadata": {},
   "outputs": [
    {
     "name": "stdout",
     "output_type": "stream",
     "text": [
      "\n",
      "The fastest you can solve this game is in 15 moves\n"
     ]
    }
   ],
   "source": [
    "num_optimal_moves = 2**num_disks-1\n",
    "print(\"\\nThe fastest you can solve this game is in {0} moves\".format(num_optimal_moves))"
   ]
  },
  {
   "cell_type": "code",
   "execution_count": 23,
   "metadata": {},
   "outputs": [],
   "source": [
    "def get_input():\n",
    "    choices = [stack.name[0] for stack in stacks]\n",
    "    while(True):\n",
    "        print(choices)\n",
    "        for i in range(len(stacks)):\n",
    "            name = stacks[i].get_name()\n",
    "            letter = choices[i]\n",
    "            print(\"Enter {0} for {1}\".format(letter, name))\n",
    "        user_input = input(\"\")\n",
    "        if user_input in choices:\n",
    "            for i in range(len(stacks)):\n",
    "                if choices[i] == user_input:\n",
    "                    return stacks[i]"
   ]
  },
  {
   "cell_type": "code",
   "execution_count": 24,
   "metadata": {},
   "outputs": [
    {
     "data": {
      "text/plain": [
       "'\\nnum_user_moves = 0\\nwhile(right_stack.get_size != num_disks):\\n    print(\"\\n\\n\\n...Current Stacks...\")\\n    for stack in stacks:\\n        stack.print_items()\\n    \\n    while(True):\\n        print(\"\\nWhich stack do you want to move from?\\n\")\\n        from_stack = get_input()\\n        print(\"\\nWhich stack do you want to move to?\\n\")\\n        to_stack = get_input()\\n        if from_stack.is_empty():\\n            print(\"\\n\\nInvalid Move. Try Again\")\\n        elif to_stack.is_empty() or from_stack.peek()<to_stack.peek():\\n            disk = from_stack.pop()\\n            to_stack.push(disk)\\n            num_user_moves +=1\\n            break\\n        else:\\n            print(\"\\n\\nInvalid Move. Try Again\")\\n\\nprint(\"\\n\\nYou completed the game in {0} moves, and the optimal number of moves is {1}\").format(num_user_moves,num_optimal_moves)\\n'"
      ]
     },
     "execution_count": 24,
     "metadata": {},
     "output_type": "execute_result"
    }
   ],
   "source": [
    "'''\n",
    "num_user_moves = 0\n",
    "while(right_stack.get_size != num_disks):\n",
    "    print(\"\\n\\n\\n...Current Stacks...\")\n",
    "    for stack in stacks:\n",
    "        stack.print_items()\n",
    "    \n",
    "    while(True):\n",
    "        print(\"\\nWhich stack do you want to move from?\\n\")\n",
    "        from_stack = get_input()\n",
    "        print(\"\\nWhich stack do you want to move to?\\n\")\n",
    "        to_stack = get_input()\n",
    "        if from_stack.is_empty():\n",
    "            print(\"\\n\\nInvalid Move. Try Again\")\n",
    "        elif to_stack.is_empty() or from_stack.peek()<to_stack.peek():\n",
    "            disk = from_stack.pop()\n",
    "            to_stack.push(disk)\n",
    "            num_user_moves +=1\n",
    "            break\n",
    "        else:\n",
    "            print(\"\\n\\nInvalid Move. Try Again\")\n",
    "\n",
    "print(\"\\n\\nYou completed the game in {0} moves, and the optimal number of moves is {1}\").format(num_user_moves,num_optimal_moves)\n",
    "'''"
   ]
  },
  {
   "cell_type": "markdown",
   "metadata": {},
   "source": [
    "## Queues data structure\n",
    "Is a data structure that contains an ordered set of data that follows a FIFO (first in, first out) protocol.\n",
    "\n",
    "* enqueue() which will allow us to add a new node to the tail of the queue\n",
    "* dequeue() which will allow us to remove a node from the head of the queue and return its value\n",
    "* peek() which will allow us to view the value of head of the queue without returning it\n"
   ]
  },
  {
   "cell_type": "code",
   "execution_count": 34,
   "metadata": {},
   "outputs": [],
   "source": [
    "class Queue:\n",
    "    def __init__(self, max_size = None):\n",
    "        self.head = None\n",
    "        self.tail = None\n",
    "        self.max_size = max_size\n",
    "        self.size = 0\n",
    "        \n",
    "    def enqueue(self,value):\n",
    "        if self.has_space():\n",
    "            item_to_add = Node(value)\n",
    "            print(\"Adding \" + str(item_to_add.get_value())+\" to the queue!\")\n",
    "            \n",
    "            if self.is_empty():\n",
    "                self.head = item_to_add\n",
    "                self.tail = item_to_add\n",
    "            else:\n",
    "                self.tail.set_next_node(item_to_add)\n",
    "                self.tail = item_to_add\n",
    "            self.size += 1\n",
    "        else:\n",
    "            print(\"Sorry, no more room!\")\n",
    "            \n",
    "    def dequeue(self):\n",
    "        if self.get_size() > 0:\n",
    "            item_to_remove = self.head\n",
    "            print(\"Removing \" + str(item_to_remove.get_value()) + \" from the queue!\")\n",
    "            if self.get_size() == 1:\n",
    "                self.head = None\n",
    "                self.tail = None\n",
    "            else:\n",
    "                self.head = self.head.get_next_node()\n",
    "            self.size -= 1\n",
    "            return item_to_remove.get_value()\n",
    "        else:\n",
    "            print(\"This queue is totally empty!\")\n",
    "\n",
    "    def peek(self):\n",
    "        if self.size > 0:\n",
    "            return self.head.get_value()\n",
    "        else:\n",
    "            print(\"Nothing to see here\")\n",
    "    \n",
    "    def get_size(self):\n",
    "        return self.size\n",
    "    \n",
    "    def has_space(self):\n",
    "        if self.max_size == None:\n",
    "            return True\n",
    "        elif self.max_size > self.get_size():\n",
    "            return True\n",
    "  \n",
    "    def is_empty(self):\n",
    "        if self.size == 0:\n",
    "            return True"
   ]
  },
  {
   "cell_type": "code",
   "execution_count": 35,
   "metadata": {},
   "outputs": [
    {
     "name": "stdout",
     "output_type": "stream",
     "text": [
      "Creating a deli line with up to 10 orders...\n",
      "------------\n",
      "Adding orders to our deli line...\n",
      "------------\n",
      "10\n",
      "0\n",
      "True\n",
      "Adding egg and cheese on a roll to the queue!\n",
      "Adding bacon, egg, and cheese on a roll to the queue!\n",
      "Adding toasted sesame bagel with butter and jelly to the queue!\n",
      "Adding toasted roll with butter to the queue!\n",
      "Adding bacon, egg, and cheese on a plain bagel to the queue!\n",
      "Adding two fried eggs with home fries and ketchup to the queue!\n",
      "Adding egg and cheese on a roll with jalapeos to the queue!\n",
      "Adding plain bagel with plain cream cheese to the queue!\n",
      "Adding blueberry muffin toasted with butter to the queue!\n",
      "Adding bacon, egg, and cheese on a roll to the queue!\n"
     ]
    }
   ],
   "source": [
    "print(\"Creating a deli line with up to 10 orders...\\n------------\")\n",
    "deli_line = Queue(10)\n",
    "print(\"Adding orders to our deli line...\\n------------\")\n",
    "print(deli_line.max_size)\n",
    "print(deli_line.size)\n",
    "print(deli_line.has_space())\n",
    "deli_line.enqueue(\"egg and cheese on a roll\")\n",
    "deli_line.enqueue(\"bacon, egg, and cheese on a roll\")\n",
    "deli_line.enqueue(\"toasted sesame bagel with butter and jelly\")\n",
    "deli_line.enqueue(\"toasted roll with butter\")\n",
    "deli_line.enqueue(\"bacon, egg, and cheese on a plain bagel\")\n",
    "deli_line.enqueue(\"two fried eggs with home fries and ketchup\")\n",
    "deli_line.enqueue(\"egg and cheese on a roll with jalapeos\")\n",
    "deli_line.enqueue(\"plain bagel with plain cream cheese\")\n",
    "deli_line.enqueue(\"blueberry muffin toasted with butter\")\n",
    "deli_line.enqueue(\"bacon, egg, and cheese on a roll\")\n"
   ]
  },
  {
   "cell_type": "code",
   "execution_count": 36,
   "metadata": {},
   "outputs": [
    {
     "name": "stdout",
     "output_type": "stream",
     "text": [
      "10\n",
      "Sorry, no more room!\n",
      "10\n",
      "------------\n",
      "Our first order will be egg and cheese on a roll\n",
      "------------\n",
      "Now serving...\n",
      "------------\n",
      "Removing egg and cheese on a roll from the queue!\n",
      "Removing bacon, egg, and cheese on a roll from the queue!\n",
      "Removing toasted sesame bagel with butter and jelly from the queue!\n",
      "Removing toasted roll with butter from the queue!\n",
      "Removing bacon, egg, and cheese on a plain bagel from the queue!\n",
      "Removing two fried eggs with home fries and ketchup from the queue!\n",
      "Removing egg and cheese on a roll with jalapeos from the queue!\n",
      "Removing plain bagel with plain cream cheese from the queue!\n",
      "Removing blueberry muffin toasted with butter from the queue!\n",
      "Removing bacon, egg, and cheese on a roll from the queue!\n",
      "0\n",
      "This queue is totally empty!\n"
     ]
    }
   ],
   "source": [
    "print(deli_line.size)\n",
    "deli_line.enqueue(\"western omelet with home fries\")\n",
    "print(deli_line.size)\n",
    "# ------------------------ #\n",
    "print(\"------------\\nOur first order will be \" + deli_line.peek())\n",
    "print(\"------------\\nNow serving...\\n------------\")\n",
    "deli_line.dequeue()\n",
    "deli_line.dequeue()\n",
    "deli_line.dequeue()\n",
    "deli_line.dequeue()\n",
    "deli_line.dequeue()\n",
    "deli_line.dequeue()\n",
    "deli_line.dequeue()\n",
    "deli_line.dequeue()\n",
    "deli_line.dequeue()\n",
    "deli_line.dequeue()\n",
    "# ------------------------ #\n",
    "# Uncomment the line below:\n",
    "print(deli_line.size)\n",
    "deli_line.dequeue()"
   ]
  }
 ],
 "metadata": {
  "kernelspec": {
   "display_name": "Python (Messi)",
   "language": "python",
   "name": "messi"
  },
  "language_info": {
   "codemirror_mode": {
    "name": "ipython",
    "version": 3
   },
   "file_extension": ".py",
   "mimetype": "text/x-python",
   "name": "python",
   "nbconvert_exporter": "python",
   "pygments_lexer": "ipython3",
   "version": "3.6.4"
  }
 },
 "nbformat": 4,
 "nbformat_minor": 2
}
