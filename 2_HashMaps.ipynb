{
 "cells": [
  {
   "cell_type": "markdown",
   "metadata": {},
   "source": [
    "# Complex Data Structures - HASHMAPS"
   ]
  },
  {
   "cell_type": "markdown",
   "metadata": {},
   "source": [
    "## 1. Basic HashMap"
   ]
  },
  {
   "cell_type": "code",
   "execution_count": 1,
   "metadata": {},
   "outputs": [],
   "source": [
    "class HashMap:\n",
    "    def __init__(self, array_size):\n",
    "        self.array_size = array_size\n",
    "        self.array = [None for item in range(array_size)]\n",
    "\n",
    "    def hash(self, key, count_collisions=0):\n",
    "        key_bytes = key.encode()\n",
    "        hash_code = sum(key_bytes)\n",
    "        return hash_code + count_collisions\n",
    "\n",
    "    def compressor(self, hash_code):\n",
    "        return hash_code % self.array_size\n",
    "\n",
    "    def assign(self, key, value):\n",
    "        array_index = self.compressor(self.hash(key))\n",
    "        current_array_value = self.array[array_index]\n",
    "\n",
    "        if current_array_value is None:\n",
    "            self.array[array_index] = [key, value]\n",
    "            return\n",
    "\n",
    "        if current_array_value[0] == key:\n",
    "            self.array[array_index] = [key, value]\n",
    "            return\n",
    "\n",
    "        # Collision!\n",
    "\n",
    "        number_collisions = 1\n",
    "\n",
    "        while(current_array_value[0] != key):\n",
    "            new_hash_code = self.hash(key, number_collisions)\n",
    "            new_array_index = self.compressor(new_hash_code)\n",
    "            current_array_value = self.array[new_array_index]\n",
    "\n",
    "            if current_array_value is None:\n",
    "                self.array[new_array_index] = [key, value]\n",
    "                return\n",
    "\n",
    "            if current_array_value[0] == key:\n",
    "                self.array[new_array_index] = [key, value]\n",
    "                return\n",
    "\n",
    "            number_collisions += 1\n",
    "\n",
    "        return\n",
    "\n",
    "    def retrieve(self, key):\n",
    "        array_index = self.compressor(self.hash(key))\n",
    "        possible_return_value = self.array[array_index]\n",
    "\n",
    "        if possible_return_value is None:\n",
    "            return None\n",
    "\n",
    "        if possible_return_value[0] == key:\n",
    "            return possible_return_value[1]\n",
    "\n",
    "        retrieval_collisions = 1\n",
    "\n",
    "        while (possible_return_value != key):\n",
    "            new_hash_code = self.hash(key, retrieval_collisions)\n",
    "            retrieving_array_index = self.compressor(new_hash_code)\n",
    "            possible_return_value = self.array[retrieving_array_index]\n",
    "\n",
    "            if possible_return_value is None:\n",
    "                return None\n",
    "\n",
    "            if possible_return_value[0] == key:\n",
    "                return possible_return_value[1]\n",
    "\n",
    "            retrieval_collisions += 1\n",
    "\n",
    "        return"
   ]
  },
  {
   "cell_type": "code",
   "execution_count": 2,
   "metadata": {},
   "outputs": [
    {
     "name": "stdout",
     "output_type": "stream",
     "text": [
      "messi\n",
      "sedimentary\n",
      "metamorphic\n"
     ]
    }
   ],
   "source": [
    "hash_map = HashMap(15)\n",
    "\n",
    "hash_map.assign('gabbro', 'igneous')\n",
    "hash_map.assign('sandstone', 'sedimentary')\n",
    "hash_map.assign('gneiss', 'metamorphic')\n",
    "hash_map.assign('gabbro', 'messi')\n",
    "\n",
    "print(hash_map.retrieve('gabbro'))\n",
    "print(hash_map.retrieve('sandstone'))\n",
    "print(hash_map.retrieve('gneiss'))"
   ]
  },
  {
   "cell_type": "markdown",
   "metadata": {},
   "source": [
    "## 2. HashMap and LinkedList Project"
   ]
  },
  {
   "cell_type": "markdown",
   "metadata": {},
   "source": [
    "### Node and LinkedList"
   ]
  },
  {
   "cell_type": "code",
   "execution_count": 3,
   "metadata": {},
   "outputs": [],
   "source": [
    "class Node:\n",
    "    def __init__(self, value):\n",
    "        self.value = value\n",
    "        self.next_node = None\n",
    "    \n",
    "    def get_value(self):\n",
    "        return self.value\n",
    "  \n",
    "    def get_next_node(self):\n",
    "        return self.next_node\n",
    "  \n",
    "    def set_next_node(self, next_node):\n",
    "        self.next_node = next_node\n",
    "\n",
    "class LinkedList:\n",
    "    def __init__(self, head_node=None):\n",
    "        self.head_node = head_node\n",
    "  \n",
    "    def insert(self, new_node):\n",
    "        current_node = self.head_node\n",
    "\n",
    "        if not current_node:\n",
    "            self.head_node = new_node\n",
    "\n",
    "        while(current_node):\n",
    "            next_node = current_node.get_next_node()\n",
    "            if not next_node:\n",
    "                current_node.set_next_node(new_node)\n",
    "            current_node = next_node\n",
    "\n",
    "    def __iter__(self):\n",
    "        current_node = self.head_node\n",
    "        while(current_node):\n",
    "            yield current_node.get_value()\n",
    "            current_node = current_node.get_next_node()\n"
   ]
  },
  {
   "cell_type": "markdown",
   "metadata": {},
   "source": [
    "### Hash Maps"
   ]
  },
  {
   "cell_type": "code",
   "execution_count": 4,
   "metadata": {},
   "outputs": [],
   "source": [
    "class HashMap:\n",
    "    def __init__(self, size): \n",
    "        self.array_size = size\n",
    "        self.array = [LinkedList() for item in range(size)]\n",
    "    \n",
    "    def hash(self,key):\n",
    "        key_bytes = key.encode()\n",
    "        hash_code = sum(key_bytes)\n",
    "        return hash_code\n",
    "    \n",
    "    def compressor(self, hash_code):\n",
    "        return hash_code % self.array_size      \n",
    "  \n",
    "    def assign(self, key, value):\n",
    "        hash_code = self.hash(key)\n",
    "        array_index = self.compressor(hash_code)\n",
    "        payload = Node([key,value])\n",
    "        list_at_array = self.array[array_index]\n",
    "    \n",
    "        for item in list_at_array:\n",
    "            if key == item[0]:\n",
    "                item[1] = value\n",
    "                return \n",
    "        list_at_array.insert(payload)\n",
    "  \n",
    "    def retrieve(self, key):\n",
    "        hash_code = self.hash(key)\n",
    "        array_index = self.compressor(hash_code)\n",
    "        list_at_index = self.array[array_index]\n",
    "    \n",
    "        for item in list_at_index:\n",
    "            if key == item[0]:\n",
    "                return item[1]\n",
    "        return None"
   ]
  },
  {
   "cell_type": "code",
   "execution_count": 6,
   "metadata": {},
   "outputs": [
    {
     "name": "stdout",
     "output_type": "stream",
     "text": [
      "innocence\n"
     ]
    }
   ],
   "source": [
    "flower_definitions = [['begonia', 'cautiousness'], ['chrysanthemum', 'cheerfulness'], \n",
    "                      ['carnation', 'memories'], ['daisy', 'innocence'], \n",
    "                      ['hyacinth', 'playfulness'], ['lavender', 'devotion'], \n",
    "                      ['magnolia', 'dignity'], ['morning glory', 'unrequited love'], \n",
    "                      ['periwinkle', 'new friendship'], ['poppy', 'rest'], ['rose', 'love'], \n",
    "                      ['snapdragon', 'grace'], ['sunflower', 'longevity'], ['wisteria', 'good luck']]\n",
    "\n",
    "blossom = HashMap(len(flower_definitions))\n",
    "\n",
    "for flower in flower_definitions:\n",
    "    blossom.assign(flower[0], flower[1])\n",
    "    \n",
    "print(blossom.retrieve(\"daisy\"))"
   ]
  }
 ],
 "metadata": {
  "kernelspec": {
   "display_name": "Python (Messi)",
   "language": "python",
   "name": "messi"
  },
  "language_info": {
   "codemirror_mode": {
    "name": "ipython",
    "version": 3
   },
   "file_extension": ".py",
   "mimetype": "text/x-python",
   "name": "python",
   "nbconvert_exporter": "python",
   "pygments_lexer": "ipython3",
   "version": "3.6.4"
  }
 },
 "nbformat": 4,
 "nbformat_minor": 2
}
