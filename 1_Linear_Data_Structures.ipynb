{
 "cells": [
  {
   "cell_type": "markdown",
   "metadata": {},
   "source": [
    "# LINEAR DATA STRUCTURES"
   ]
  },
  {
   "cell_type": "markdown",
   "metadata": {},
   "source": [
    "# Nodes"
   ]
  },
  {
   "cell_type": "markdown",
   "metadata": {},
   "source": [
    "Basic node that contains data and one link to another node. The node’s data will be specified when creating the node and immutable (can’t be updated). The link will be optional at initialization and can be updated."
   ]
  },
  {
   "cell_type": "code",
   "execution_count": 1,
   "metadata": {},
   "outputs": [],
   "source": [
    "class Node:\n",
    "    def __init__(self,value, link_node=None):\n",
    "        self.value = value\n",
    "        self.link_node = link_node\n",
    "        \n",
    "    def get_value(self):\n",
    "        return self.value\n",
    "    \n",
    "    def get_link_node(self):\n",
    "        return self.link_node\n",
    "    \n",
    "    def set_link_node(self, link_node):\n",
    "        self.link_node = link_node"
   ]
  },
  {
   "cell_type": "markdown",
   "metadata": {},
   "source": [
    "Instantiate three nodes and set link nodes to yacko and dot"
   ]
  },
  {
   "cell_type": "code",
   "execution_count": 2,
   "metadata": {},
   "outputs": [],
   "source": [
    "yacko = Node(\"likes to yak\")\n",
    "wacko = Node(\"has a penchant for hoarding snacks\")\n",
    "dot = Node(\"enjoys spending time in movie lots\")\n",
    "\n",
    "yacko.set_link_node(dot)\n",
    "dot.set_link_node(wacko)"
   ]
  },
  {
   "cell_type": "markdown",
   "metadata": {},
   "source": [
    "Use both getter methods to get dot‘s value from yacko and get wacko‘s value from dot"
   ]
  },
  {
   "cell_type": "code",
   "execution_count": 3,
   "metadata": {},
   "outputs": [
    {
     "name": "stdout",
     "output_type": "stream",
     "text": [
      "enjoys spending time in movie lots\n",
      "has a penchant for hoarding snacks\n"
     ]
    }
   ],
   "source": [
    "dots_data =yacko.get_link_node().get_value()\n",
    "wackos_data = dot.get_link_node().get_value()\n",
    "\n",
    "print(dots_data)\n",
    "print(wackos_data)"
   ]
  },
  {
   "cell_type": "markdown",
   "metadata": {},
   "source": [
    "# Linked List"
   ]
  },
  {
   "cell_type": "code",
   "execution_count": 4,
   "metadata": {},
   "outputs": [],
   "source": [
    "class Node:\n",
    "    def __init__(self,value, next_node=None):\n",
    "        self.value = value\n",
    "        self.next_node = next_node\n",
    "        \n",
    "    def get_value(self):\n",
    "        return self.value\n",
    "    \n",
    "    def get_next_node(self):\n",
    "        return self.next_node\n",
    "    \n",
    "    def set_next_node(self, next_node):\n",
    "        self.next_node = next_node"
   ]
  },
  {
   "cell_type": "code",
   "execution_count": 5,
   "metadata": {
    "scrolled": true
   },
   "outputs": [
    {
     "name": "stdout",
     "output_type": "stream",
     "text": [
      "44\n"
     ]
    }
   ],
   "source": [
    "my_node = Node(44)\n",
    "print(my_node.get_value())"
   ]
  },
  {
   "cell_type": "markdown",
   "metadata": {},
   "source": [
    "## Implementation of linked list\n",
    "\n",
    "* get the head node of the list (it’s like peeking at the first item in line)\n",
    "* add a new node to the beginning of the list\n",
    "* print out the list values in order\n",
    "* remove a node that has a particular valu"
   ]
  },
  {
   "cell_type": "code",
   "execution_count": 6,
   "metadata": {},
   "outputs": [],
   "source": [
    "class LinkedList:\n",
    "    def __init__(self, value = None):\n",
    "        self.head_node = Node(value)\n",
    "        \n",
    "    def get_head_node(self):\n",
    "        return self.head_node\n",
    "    \n",
    "    def insert_beginning(self, new_value):\n",
    "        new_node = Node(new_value)\n",
    "        new_node.set_next_node(self.head_node)\n",
    "        self.head_node = new_node\n",
    "        \n",
    "    def stringify_list(self):\n",
    "        # Create an empty string \n",
    "        string_list = \"\"\n",
    "        # Get the current node\n",
    "        current_node = self.get_head_node()\n",
    "        # While the current_node is not \"None\"\n",
    "        while(current_node):\n",
    "            if current_node.get_value()!=None:\n",
    "                string_list += str(current_node.get_value())+\"\\n\"\n",
    "                # Set current node, until it becomes \"None\"\n",
    "                current_node = current_node.get_next_node()\n",
    "        return string_list\n",
    "    \n",
    "    def remove_node(self, value_to_remove):\n",
    "        # Get the current node\n",
    "        current_node = self.head_node\n",
    "        # First, we evaluate if the current node value is the same that we are looking for\n",
    "        if current_node.get_value() == value_to_remove:\n",
    "            # If this is the same, replace the head node with the next node\n",
    "            self.head_node = current_node.get_next_node()\n",
    "        else:\n",
    "            # If we dont find the value in the first node, we check the value in the other nodes\n",
    "            # We do the same that we did in stringify\n",
    "            while(current_node):\n",
    "                # Get the next node\n",
    "                next_node = current_node.get_next_node()\n",
    "                # If the value of the next node is the same as the value that we are looking for,\n",
    "                # Set the next node with the linked node of the next node\n",
    "                if next_node.get_value() == value_to_remove:\n",
    "                    current_node.set_next_node(next_node.get_next_node())\n",
    "                    # To terminate the loop\n",
    "                    current_node=None\n",
    "                else:\n",
    "                    # We continue searching in the next node\n",
    "                    current_node = next_node"
   ]
  },
  {
   "cell_type": "code",
   "execution_count": 7,
   "metadata": {},
   "outputs": [
    {
     "name": "stdout",
     "output_type": "stream",
     "text": [
      "5\n",
      "\n"
     ]
    }
   ],
   "source": [
    "ll = LinkedList(5)\n",
    "#ll.insert_beginning(70)\n",
    "#ll.insert_beginning(5675)\n",
    "#ll.insert_beginning(90)\n",
    "print(ll.stringify_list())"
   ]
  },
  {
   "cell_type": "code",
   "execution_count": 8,
   "metadata": {},
   "outputs": [
    {
     "name": "stdout",
     "output_type": "stream",
     "text": [
      "90\n",
      "5675\n",
      "70\n",
      "5\n",
      "\n"
     ]
    }
   ],
   "source": [
    "ll.insert_beginning(70)\n",
    "ll.insert_beginning(5675)\n",
    "ll.insert_beginning(90)\n",
    "print(ll.stringify_list())"
   ]
  },
  {
   "cell_type": "code",
   "execution_count": 9,
   "metadata": {},
   "outputs": [
    {
     "name": "stdout",
     "output_type": "stream",
     "text": [
      "5\n"
     ]
    }
   ],
   "source": [
    "print(ll.get_head_node().get_next_node().get_next_node().get_next_node().get_value())"
   ]
  },
  {
   "cell_type": "code",
   "execution_count": 10,
   "metadata": {},
   "outputs": [
    {
     "name": "stdout",
     "output_type": "stream",
     "text": [
      "90\n",
      "5675\n",
      "5\n",
      "\n"
     ]
    }
   ],
   "source": [
    "ll.remove_node(70)\n",
    "print(ll.stringify_list())"
   ]
  },
  {
   "cell_type": "markdown",
   "metadata": {},
   "source": [
    "# Stacks\n",
    "\n",
    "There are three main methods that we want out stacks to have:\n",
    "* Push - Adds data to the top of the stack\n",
    "* Pop - Provides and remove data from the top of the stack\n",
    "* Peek - Provides data from the top of the stack without removing it\n",
    "\n",
    "We also need to consider the stack’s size and tweak our methods a bit so that our stack does not “overflow”."
   ]
  },
  {
   "cell_type": "code",
   "execution_count": 11,
   "metadata": {},
   "outputs": [],
   "source": [
    "class Stack:\n",
    "    def __init__(self, name, limit = 1000):\n",
    "        self.name = name\n",
    "        self.top_item = None\n",
    "        self.size = 0\n",
    "        self.limit = limit\n",
    "        \n",
    "        \n",
    "    def push(self, value): \n",
    "        if self.has_space():\n",
    "            item = Node(value)\n",
    "            item.set_next_node(self.top_item)\n",
    "            self.top_item = item\n",
    "            self.size +=1\n",
    "            print(\"Adding {} to the {} stack\".format(value, self.name))\n",
    "        else:\n",
    "            print(\"There is no space for {}\".format(value))\n",
    "        \n",
    "    def pop(self):\n",
    "        if not self.is_empty() :\n",
    "            item_to_remove =  self.top_item\n",
    "            self.top_item = item_to_remove.get_next_node()\n",
    "            self.size -=1\n",
    "            print(\"Delivering\")\n",
    "            print(item_to_remove.get_value())\n",
    "            return item_to_remove.get_value()\n",
    "        else:\n",
    "            print(\"{} stack is empty\".format(self.name))\n",
    "        \n",
    "    def peek(self):\n",
    "        if not self.is_empty():\n",
    "            return self.top_item.get_value()\n",
    "        else:\n",
    "            print(\"{} stack is empty\".format(self.name))\n",
    "            \n",
    "    def has_space(self):\n",
    "        if self.limit > self.size :\n",
    "            return True\n",
    "        \n",
    "    def get_size(self):\n",
    "        return self.size\n",
    "  \n",
    "    def get_name(self):\n",
    "        return self.name\n",
    "  \n",
    "    def print_items(self):\n",
    "        pointer = self.top_item\n",
    "        print_list = []\n",
    "        while(pointer):\n",
    "            print_list.append(pointer.get_value())\n",
    "            pointer = pointer.get_next_node()\n",
    "        print_list.reverse()\n",
    "        print(\"{0} Stack: {1}\".format(self.get_name(), print_list))\n",
    "\n",
    "\n",
    "    def is_empty(self):\n",
    "        if self.size == 0:\n",
    "            return True"
   ]
  },
  {
   "cell_type": "code",
   "execution_count": 12,
   "metadata": {},
   "outputs": [],
   "source": [
    "pizza_stack = Stack(\"Pizza\",6)"
   ]
  },
  {
   "cell_type": "code",
   "execution_count": 13,
   "metadata": {},
   "outputs": [
    {
     "name": "stdout",
     "output_type": "stream",
     "text": [
      "Adding pizza #1 to the Pizza stack\n",
      "Adding pizza #2 to the Pizza stack\n",
      "Adding pizza #3 to the Pizza stack\n",
      "Adding pizza #4 to the Pizza stack\n",
      "Adding pizza #5 to the Pizza stack\n",
      "Adding pizza #6 to the Pizza stack\n"
     ]
    }
   ],
   "source": [
    "pizza_stack.push(\"pizza #1\")\n",
    "pizza_stack.push(\"pizza #2\")\n",
    "pizza_stack.push(\"pizza #3\")\n",
    "pizza_stack.push(\"pizza #4\")\n",
    "pizza_stack.push(\"pizza #5\")\n",
    "pizza_stack.push(\"pizza #6\")"
   ]
  },
  {
   "cell_type": "code",
   "execution_count": 14,
   "metadata": {},
   "outputs": [
    {
     "name": "stdout",
     "output_type": "stream",
     "text": [
      "There is no space for pizza #7\n"
     ]
    }
   ],
   "source": [
    "pizza_stack.push(\"pizza #7\")"
   ]
  },
  {
   "cell_type": "code",
   "execution_count": 15,
   "metadata": {},
   "outputs": [
    {
     "name": "stdout",
     "output_type": "stream",
     "text": [
      "The first pizza to deliver is pizza #6\n"
     ]
    }
   ],
   "source": [
    "print(\"The first pizza to deliver is \" + pizza_stack.peek())"
   ]
  },
  {
   "cell_type": "code",
   "execution_count": 16,
   "metadata": {},
   "outputs": [
    {
     "name": "stdout",
     "output_type": "stream",
     "text": [
      "Delivering\n",
      "pizza #6\n"
     ]
    },
    {
     "data": {
      "text/plain": [
       "'pizza #6'"
      ]
     },
     "execution_count": 16,
     "metadata": {},
     "output_type": "execute_result"
    }
   ],
   "source": [
    "pizza_stack.pop()"
   ]
  },
  {
   "cell_type": "code",
   "execution_count": 17,
   "metadata": {},
   "outputs": [
    {
     "name": "stdout",
     "output_type": "stream",
     "text": [
      "Delivering\n",
      "pizza #5\n",
      "Delivering\n",
      "pizza #4\n",
      "Delivering\n",
      "pizza #3\n",
      "Delivering\n",
      "pizza #2\n",
      "Delivering\n",
      "pizza #1\n"
     ]
    },
    {
     "data": {
      "text/plain": [
       "'pizza #1'"
      ]
     },
     "execution_count": 17,
     "metadata": {},
     "output_type": "execute_result"
    }
   ],
   "source": [
    "pizza_stack.pop()\n",
    "pizza_stack.pop()\n",
    "pizza_stack.pop()\n",
    "pizza_stack.pop()\n",
    "pizza_stack.pop()"
   ]
  },
  {
   "cell_type": "code",
   "execution_count": 18,
   "metadata": {},
   "outputs": [
    {
     "name": "stdout",
     "output_type": "stream",
     "text": [
      "Pizza stack is empty\n"
     ]
    }
   ],
   "source": [
    "pizza_stack.pop()"
   ]
  },
  {
   "cell_type": "markdown",
   "metadata": {},
   "source": [
    "## Towers of Hanoi project\n",
    "\n",
    "The objective of the game is to move the stack of disks from the leftmost stack to the rightmost stack.\n",
    "\n",
    "The game follows three rules:\n",
    "\n",
    "* Only one disk can be moved at a time.\n",
    "* Each move consists of taking the upper disk from one of the stacks and placing it on top of another stack or on an empty rod.\n",
    "* No disk may be placed on top of a smaller disk."
   ]
  },
  {
   "cell_type": "code",
   "execution_count": 19,
   "metadata": {},
   "outputs": [
    {
     "name": "stdout",
     "output_type": "stream",
     "text": [
      "Left\n",
      "Middle\n",
      "Right\n"
     ]
    }
   ],
   "source": [
    "# Create the stacks\n",
    "stacks = []\n",
    "left_stack = Stack(\"Left\")\n",
    "middle_stack = Stack(\"Middle\")\n",
    "right_stack = Stack(\"Right\")\n",
    "stacks.append(left_stack)\n",
    "stacks.append(middle_stack)\n",
    "stacks.append(right_stack)\n",
    "for stack in stacks:\n",
    "    print(stack.name)"
   ]
  },
  {
   "cell_type": "code",
   "execution_count": 20,
   "metadata": {},
   "outputs": [
    {
     "name": "stdout",
     "output_type": "stream",
     "text": [
      "\n",
      "How many disks do you want to play with?\n",
      "4\n"
     ]
    }
   ],
   "source": [
    "# Set up the game\n",
    "num_disks = int(input(\"\\nHow many disks do you want to play with?\\n\"))\n",
    "while (num_disks<3):\n",
    "    num_disks = int(input(\"\\nEnter a number greater than or equal to three\\n\"))"
   ]
  },
  {
   "cell_type": "code",
   "execution_count": 21,
   "metadata": {},
   "outputs": [
    {
     "name": "stdout",
     "output_type": "stream",
     "text": [
      "Adding 4 to the Left stack\n",
      "Adding 3 to the Left stack\n",
      "Adding 2 to the Left stack\n",
      "Adding 1 to the Left stack\n"
     ]
    }
   ],
   "source": [
    "for i in range(num_disks, 0, -1):\n",
    "    left_stack.push(i)"
   ]
  },
  {
   "cell_type": "code",
   "execution_count": 22,
   "metadata": {},
   "outputs": [
    {
     "name": "stdout",
     "output_type": "stream",
     "text": [
      "\n",
      "The fastest you can solve this game is in 15 moves\n"
     ]
    }
   ],
   "source": [
    "num_optimal_moves = 2**num_disks-1\n",
    "print(\"\\nThe fastest you can solve this game is in {0} moves\".format(num_optimal_moves))"
   ]
  },
  {
   "cell_type": "code",
   "execution_count": 23,
   "metadata": {},
   "outputs": [],
   "source": [
    "def get_input():\n",
    "    choices = [stack.name[0] for stack in stacks]\n",
    "    while(True):\n",
    "        print(choices)\n",
    "        for i in range(len(stacks)):\n",
    "            name = stacks[i].get_name()\n",
    "            letter = choices[i]\n",
    "            print(\"Enter {0} for {1}\".format(letter, name))\n",
    "        user_input = input(\"\")\n",
    "        if user_input in choices:\n",
    "            for i in range(len(stacks)):\n",
    "                if choices[i] == user_input:\n",
    "                    return stacks[i]"
   ]
  },
  {
   "cell_type": "code",
   "execution_count": 24,
   "metadata": {},
   "outputs": [
    {
     "name": "stdout",
     "output_type": "stream",
     "text": [
      "\n",
      "\n",
      "\n",
      "...Current Stacks...\n",
      "Left Stack: [4, 3, 2, 1]\n",
      "Middle Stack: []\n",
      "Right Stack: []\n",
      "\n",
      "Which stack do you want to move from?\n",
      "\n",
      "['L', 'M', 'R']\n",
      "Enter L for Left\n",
      "Enter M for Middle\n",
      "Enter R for Right\n",
      "L\n",
      "\n",
      "Which stack do you want to move to?\n",
      "\n",
      "['L', 'M', 'R']\n",
      "Enter L for Left\n",
      "Enter M for Middle\n",
      "Enter R for Right\n",
      "M\n",
      "Delivering\n",
      "1\n",
      "Adding 1 to the Middle stack\n",
      "\n",
      "\n",
      "\n",
      "...Current Stacks...\n",
      "Left Stack: [4, 3, 2]\n",
      "Middle Stack: [1]\n",
      "Right Stack: []\n",
      "\n",
      "Which stack do you want to move from?\n",
      "\n",
      "['L', 'M', 'R']\n",
      "Enter L for Left\n",
      "Enter M for Middle\n",
      "Enter R for Right\n",
      "L\n",
      "\n",
      "Which stack do you want to move to?\n",
      "\n",
      "['L', 'M', 'R']\n",
      "Enter L for Left\n",
      "Enter M for Middle\n",
      "Enter R for Right\n",
      "R\n",
      "Delivering\n",
      "2\n",
      "Adding 2 to the Right stack\n",
      "\n",
      "\n",
      "\n",
      "...Current Stacks...\n",
      "Left Stack: [4, 3]\n",
      "Middle Stack: [1]\n",
      "Right Stack: [2]\n",
      "\n",
      "Which stack do you want to move from?\n",
      "\n",
      "['L', 'M', 'R']\n",
      "Enter L for Left\n",
      "Enter M for Middle\n",
      "Enter R for Right\n",
      "M\n",
      "\n",
      "Which stack do you want to move to?\n",
      "\n",
      "['L', 'M', 'R']\n",
      "Enter L for Left\n",
      "Enter M for Middle\n",
      "Enter R for Right\n",
      "R\n",
      "Delivering\n",
      "1\n",
      "Adding 1 to the Right stack\n",
      "\n",
      "\n",
      "\n",
      "...Current Stacks...\n",
      "Left Stack: [4, 3]\n",
      "Middle Stack: []\n",
      "Right Stack: [2, 1]\n",
      "\n",
      "Which stack do you want to move from?\n",
      "\n",
      "['L', 'M', 'R']\n",
      "Enter L for Left\n",
      "Enter M for Middle\n",
      "Enter R for Right\n"
     ]
    },
    {
     "ename": "KeyboardInterrupt",
     "evalue": "",
     "output_type": "error",
     "traceback": [
      "\u001b[0;31m---------------------------------------------------------------------------\u001b[0m",
      "\u001b[0;31mKeyboardInterrupt\u001b[0m                         Traceback (most recent call last)",
      "\u001b[0;32m~/miniconda3/envs/Messi/lib/python3.6/site-packages/ipykernel/kernelbase.py\u001b[0m in \u001b[0;36m_input_request\u001b[0;34m(self, prompt, ident, parent, password)\u001b[0m\n\u001b[1;32m    728\u001b[0m             \u001b[0;32mtry\u001b[0m\u001b[0;34m:\u001b[0m\u001b[0;34m\u001b[0m\u001b[0m\n\u001b[0;32m--> 729\u001b[0;31m                 \u001b[0mident\u001b[0m\u001b[0;34m,\u001b[0m \u001b[0mreply\u001b[0m \u001b[0;34m=\u001b[0m \u001b[0mself\u001b[0m\u001b[0;34m.\u001b[0m\u001b[0msession\u001b[0m\u001b[0;34m.\u001b[0m\u001b[0mrecv\u001b[0m\u001b[0;34m(\u001b[0m\u001b[0mself\u001b[0m\u001b[0;34m.\u001b[0m\u001b[0mstdin_socket\u001b[0m\u001b[0;34m,\u001b[0m \u001b[0;36m0\u001b[0m\u001b[0;34m)\u001b[0m\u001b[0;34m\u001b[0m\u001b[0m\n\u001b[0m\u001b[1;32m    730\u001b[0m             \u001b[0;32mexcept\u001b[0m \u001b[0mException\u001b[0m\u001b[0;34m:\u001b[0m\u001b[0;34m\u001b[0m\u001b[0m\n",
      "\u001b[0;32m~/miniconda3/envs/Messi/lib/python3.6/site-packages/jupyter_client/session.py\u001b[0m in \u001b[0;36mrecv\u001b[0;34m(self, socket, mode, content, copy)\u001b[0m\n\u001b[1;32m    802\u001b[0m         \u001b[0;32mtry\u001b[0m\u001b[0;34m:\u001b[0m\u001b[0;34m\u001b[0m\u001b[0m\n\u001b[0;32m--> 803\u001b[0;31m             \u001b[0mmsg_list\u001b[0m \u001b[0;34m=\u001b[0m \u001b[0msocket\u001b[0m\u001b[0;34m.\u001b[0m\u001b[0mrecv_multipart\u001b[0m\u001b[0;34m(\u001b[0m\u001b[0mmode\u001b[0m\u001b[0;34m,\u001b[0m \u001b[0mcopy\u001b[0m\u001b[0;34m=\u001b[0m\u001b[0mcopy\u001b[0m\u001b[0;34m)\u001b[0m\u001b[0;34m\u001b[0m\u001b[0m\n\u001b[0m\u001b[1;32m    804\u001b[0m         \u001b[0;32mexcept\u001b[0m \u001b[0mzmq\u001b[0m\u001b[0;34m.\u001b[0m\u001b[0mZMQError\u001b[0m \u001b[0;32mas\u001b[0m \u001b[0me\u001b[0m\u001b[0;34m:\u001b[0m\u001b[0;34m\u001b[0m\u001b[0m\n",
      "\u001b[0;32m~/miniconda3/envs/Messi/lib/python3.6/site-packages/zmq/sugar/socket.py\u001b[0m in \u001b[0;36mrecv_multipart\u001b[0;34m(self, flags, copy, track)\u001b[0m\n\u001b[1;32m    465\u001b[0m         \"\"\"\n\u001b[0;32m--> 466\u001b[0;31m         \u001b[0mparts\u001b[0m \u001b[0;34m=\u001b[0m \u001b[0;34m[\u001b[0m\u001b[0mself\u001b[0m\u001b[0;34m.\u001b[0m\u001b[0mrecv\u001b[0m\u001b[0;34m(\u001b[0m\u001b[0mflags\u001b[0m\u001b[0;34m,\u001b[0m \u001b[0mcopy\u001b[0m\u001b[0;34m=\u001b[0m\u001b[0mcopy\u001b[0m\u001b[0;34m,\u001b[0m \u001b[0mtrack\u001b[0m\u001b[0;34m=\u001b[0m\u001b[0mtrack\u001b[0m\u001b[0;34m)\u001b[0m\u001b[0;34m]\u001b[0m\u001b[0;34m\u001b[0m\u001b[0m\n\u001b[0m\u001b[1;32m    467\u001b[0m         \u001b[0;31m# have first part already, only loop while more to receive\u001b[0m\u001b[0;34m\u001b[0m\u001b[0;34m\u001b[0m\u001b[0m\n",
      "\u001b[0;32mzmq/backend/cython/socket.pyx\u001b[0m in \u001b[0;36mzmq.backend.cython.socket.Socket.recv\u001b[0;34m()\u001b[0m\n",
      "\u001b[0;32mzmq/backend/cython/socket.pyx\u001b[0m in \u001b[0;36mzmq.backend.cython.socket.Socket.recv\u001b[0;34m()\u001b[0m\n",
      "\u001b[0;32mzmq/backend/cython/socket.pyx\u001b[0m in \u001b[0;36mzmq.backend.cython.socket._recv_copy\u001b[0;34m()\u001b[0m\n",
      "\u001b[0;32m~/miniconda3/envs/Messi/lib/python3.6/site-packages/zmq/backend/cython/checkrc.pxd\u001b[0m in \u001b[0;36mzmq.backend.cython.checkrc._check_rc\u001b[0;34m()\u001b[0m\n",
      "\u001b[0;31mKeyboardInterrupt\u001b[0m: ",
      "\nDuring handling of the above exception, another exception occurred:\n",
      "\u001b[0;31mKeyboardInterrupt\u001b[0m                         Traceback (most recent call last)",
      "\u001b[0;32m<ipython-input-24-6a4a9e71edab>\u001b[0m in \u001b[0;36m<module>\u001b[0;34m()\u001b[0m\n\u001b[1;32m      7\u001b[0m     \u001b[0;32mwhile\u001b[0m\u001b[0;34m(\u001b[0m\u001b[0;32mTrue\u001b[0m\u001b[0;34m)\u001b[0m\u001b[0;34m:\u001b[0m\u001b[0;34m\u001b[0m\u001b[0m\n\u001b[1;32m      8\u001b[0m         \u001b[0mprint\u001b[0m\u001b[0;34m(\u001b[0m\u001b[0;34m\"\\nWhich stack do you want to move from?\\n\"\u001b[0m\u001b[0;34m)\u001b[0m\u001b[0;34m\u001b[0m\u001b[0m\n\u001b[0;32m----> 9\u001b[0;31m         \u001b[0mfrom_stack\u001b[0m \u001b[0;34m=\u001b[0m \u001b[0mget_input\u001b[0m\u001b[0;34m(\u001b[0m\u001b[0;34m)\u001b[0m\u001b[0;34m\u001b[0m\u001b[0m\n\u001b[0m\u001b[1;32m     10\u001b[0m         \u001b[0mprint\u001b[0m\u001b[0;34m(\u001b[0m\u001b[0;34m\"\\nWhich stack do you want to move to?\\n\"\u001b[0m\u001b[0;34m)\u001b[0m\u001b[0;34m\u001b[0m\u001b[0m\n\u001b[1;32m     11\u001b[0m         \u001b[0mto_stack\u001b[0m \u001b[0;34m=\u001b[0m \u001b[0mget_input\u001b[0m\u001b[0;34m(\u001b[0m\u001b[0;34m)\u001b[0m\u001b[0;34m\u001b[0m\u001b[0m\n",
      "\u001b[0;32m<ipython-input-23-354bb14c4c5f>\u001b[0m in \u001b[0;36mget_input\u001b[0;34m()\u001b[0m\n\u001b[1;32m      7\u001b[0m             \u001b[0mletter\u001b[0m \u001b[0;34m=\u001b[0m \u001b[0mchoices\u001b[0m\u001b[0;34m[\u001b[0m\u001b[0mi\u001b[0m\u001b[0;34m]\u001b[0m\u001b[0;34m\u001b[0m\u001b[0m\n\u001b[1;32m      8\u001b[0m             \u001b[0mprint\u001b[0m\u001b[0;34m(\u001b[0m\u001b[0;34m\"Enter {0} for {1}\"\u001b[0m\u001b[0;34m.\u001b[0m\u001b[0mformat\u001b[0m\u001b[0;34m(\u001b[0m\u001b[0mletter\u001b[0m\u001b[0;34m,\u001b[0m \u001b[0mname\u001b[0m\u001b[0;34m)\u001b[0m\u001b[0;34m)\u001b[0m\u001b[0;34m\u001b[0m\u001b[0m\n\u001b[0;32m----> 9\u001b[0;31m         \u001b[0muser_input\u001b[0m \u001b[0;34m=\u001b[0m \u001b[0minput\u001b[0m\u001b[0;34m(\u001b[0m\u001b[0;34m\"\"\u001b[0m\u001b[0;34m)\u001b[0m\u001b[0;34m\u001b[0m\u001b[0m\n\u001b[0m\u001b[1;32m     10\u001b[0m         \u001b[0;32mif\u001b[0m \u001b[0muser_input\u001b[0m \u001b[0;32min\u001b[0m \u001b[0mchoices\u001b[0m\u001b[0;34m:\u001b[0m\u001b[0;34m\u001b[0m\u001b[0m\n\u001b[1;32m     11\u001b[0m             \u001b[0;32mfor\u001b[0m \u001b[0mi\u001b[0m \u001b[0;32min\u001b[0m \u001b[0mrange\u001b[0m\u001b[0;34m(\u001b[0m\u001b[0mlen\u001b[0m\u001b[0;34m(\u001b[0m\u001b[0mstacks\u001b[0m\u001b[0;34m)\u001b[0m\u001b[0;34m)\u001b[0m\u001b[0;34m:\u001b[0m\u001b[0;34m\u001b[0m\u001b[0m\n",
      "\u001b[0;32m~/miniconda3/envs/Messi/lib/python3.6/site-packages/ipykernel/kernelbase.py\u001b[0m in \u001b[0;36mraw_input\u001b[0;34m(self, prompt)\u001b[0m\n\u001b[1;32m    702\u001b[0m             \u001b[0mself\u001b[0m\u001b[0;34m.\u001b[0m\u001b[0m_parent_ident\u001b[0m\u001b[0;34m,\u001b[0m\u001b[0;34m\u001b[0m\u001b[0m\n\u001b[1;32m    703\u001b[0m             \u001b[0mself\u001b[0m\u001b[0;34m.\u001b[0m\u001b[0m_parent_header\u001b[0m\u001b[0;34m,\u001b[0m\u001b[0;34m\u001b[0m\u001b[0m\n\u001b[0;32m--> 704\u001b[0;31m             \u001b[0mpassword\u001b[0m\u001b[0;34m=\u001b[0m\u001b[0;32mFalse\u001b[0m\u001b[0;34m,\u001b[0m\u001b[0;34m\u001b[0m\u001b[0m\n\u001b[0m\u001b[1;32m    705\u001b[0m         )\n\u001b[1;32m    706\u001b[0m \u001b[0;34m\u001b[0m\u001b[0m\n",
      "\u001b[0;32m~/miniconda3/envs/Messi/lib/python3.6/site-packages/ipykernel/kernelbase.py\u001b[0m in \u001b[0;36m_input_request\u001b[0;34m(self, prompt, ident, parent, password)\u001b[0m\n\u001b[1;32m    732\u001b[0m             \u001b[0;32mexcept\u001b[0m \u001b[0mKeyboardInterrupt\u001b[0m\u001b[0;34m:\u001b[0m\u001b[0;34m\u001b[0m\u001b[0m\n\u001b[1;32m    733\u001b[0m                 \u001b[0;31m# re-raise KeyboardInterrupt, to truncate traceback\u001b[0m\u001b[0;34m\u001b[0m\u001b[0;34m\u001b[0m\u001b[0m\n\u001b[0;32m--> 734\u001b[0;31m                 \u001b[0;32mraise\u001b[0m \u001b[0mKeyboardInterrupt\u001b[0m\u001b[0;34m\u001b[0m\u001b[0m\n\u001b[0m\u001b[1;32m    735\u001b[0m             \u001b[0;32melse\u001b[0m\u001b[0;34m:\u001b[0m\u001b[0;34m\u001b[0m\u001b[0m\n\u001b[1;32m    736\u001b[0m                 \u001b[0;32mbreak\u001b[0m\u001b[0;34m\u001b[0m\u001b[0m\n",
      "\u001b[0;31mKeyboardInterrupt\u001b[0m: "
     ]
    }
   ],
   "source": [
    "num_user_moves = 0\n",
    "while(right_stack.get_size != num_disks):\n",
    "    print(\"\\n\\n\\n...Current Stacks...\")\n",
    "    for stack in stacks:\n",
    "        stack.print_items()\n",
    "    \n",
    "    while(True):\n",
    "        print(\"\\nWhich stack do you want to move from?\\n\")\n",
    "        from_stack = get_input()\n",
    "        print(\"\\nWhich stack do you want to move to?\\n\")\n",
    "        to_stack = get_input()\n",
    "        if from_stack.is_empty():\n",
    "            print(\"\\n\\nInvalid Move. Try Again\")\n",
    "        elif to_stack.is_empty() or from_stack.peek()<to_stack.peek():\n",
    "            disk = from_stack.pop()\n",
    "            to_stack.push(disk)\n",
    "            num_user_moves +=1\n",
    "            break\n",
    "        else:\n",
    "            print(\"\\n\\nInvalid Move. Try Again\")\n",
    "\n",
    "print(\"\\n\\nYou completed the game in {0} moves, and the optimal number of moves is {1}\").format(num_user_moves,num_optimal_moves)"
   ]
  }
 ],
 "metadata": {
  "kernelspec": {
   "display_name": "Python (Messi)",
   "language": "python",
   "name": "messi"
  },
  "language_info": {
   "codemirror_mode": {
    "name": "ipython",
    "version": 3
   },
   "file_extension": ".py",
   "mimetype": "text/x-python",
   "name": "python",
   "nbconvert_exporter": "python",
   "pygments_lexer": "ipython3",
   "version": "3.6.4"
  }
 },
 "nbformat": 4,
 "nbformat_minor": 2
}
