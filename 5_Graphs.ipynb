{
 "cells": [
  {
   "cell_type": "markdown",
   "metadata": {},
   "source": [
    "# GRAPHS\n",
    "A graph is the perfect data structure for modeling networks. \n",
    "We are going to define the class Vertex and the class Graph."
   ]
  },
  {
   "cell_type": "markdown",
   "metadata": {},
   "source": [
    "## Vertex class\n",
    "* Uses a dictionary as an adjacent list to store connected vertices.\n",
    "* Connected vertex names are keys and the edge weights are values.\n",
    "* Has methods to add edges and return a list of connected vertices."
   ]
  },
  {
   "cell_type": "code",
   "execution_count": 2,
   "metadata": {},
   "outputs": [],
   "source": [
    "class Vertex:\n",
    "    def __init__(self, value):\n",
    "        self.value = value # Value of the vertex\n",
    "        self.edges = {} # Definition of the connections\n",
    "    \n",
    "    def add_edge(self, vertex, weight = 0):\n",
    "        self.edges[vertex] = weight # \n",
    "        \n",
    "    def get_edges(self):\n",
    "        return list(self.edges.keys())"
   ]
  },
  {
   "cell_type": "markdown",
   "metadata": {},
   "source": [
    "## Graph class\n",
    "* Can be initialized as a directed graph, where edges are set in one direction.\n",
    "* Stores every vertex inside a dictionary\n",
    "* Vertex data is the key and the vertex instance is the value.\n",
    "* Has methods to add vertices, edges between vertices, and determine if a path exists between two vertices."
   ]
  },
  {
   "cell_type": "code",
   "execution_count": 5,
   "metadata": {},
   "outputs": [],
   "source": [
    "class Graph:\n",
    "    def __init__(self, directed = False):\n",
    "        self.graph_dict = {}\n",
    "        self.directed = directed\n",
    "        \n",
    "    def add_vertex(self, vertex):\n",
    "        self.graph_dict[vertex.value] = vertex\n",
    "        \n",
    "    def add_edge(self, from_vertex, to_vertex, weight = 0):\n",
    "        self.graph_dict[from_vertex.value].add_edge(to_vertex.value, weight)\n",
    "        if not self.directed:\n",
    "            self.graph_dict[to_vertex.value].add_edge(from_vertex.value, weight)\n",
    "            \n",
    "    def find_path(self, start_vertex, end_vertex):\n",
    "        start = [start_vertex]\n",
    "        seen = {}\n",
    "        while len(start)>0:\n",
    "            current_vertex = start.pop(0)\n",
    "            seen[current_vertex] = True\n",
    "            print(\"Visiting \" + current_vertex)\n",
    "            if current_vertex == end_vertex:\n",
    "                return True\n",
    "            else:\n",
    "                vertices_to_visit = set(self.graph_dict[current_vertex].edges.keys())\n",
    "                start += [vertex for vertex in vertices_to_visit if vertex not in seen]\n",
    "        \n",
    "        return False"
   ]
  },
  {
   "cell_type": "code",
   "execution_count": 8,
   "metadata": {},
   "outputs": [
    {
     "name": "stdout",
     "output_type": "stream",
     "text": [
      "\n",
      "a connected to\n",
      "=> c\n",
      "\n",
      "b connected to\n",
      "=> b\n",
      "=> c\n",
      "\n",
      "c connected to\n",
      "=> e\n",
      "=> a\n",
      "=> b\n",
      "\n",
      "d connected to\n",
      "=> e\n",
      "=> f\n",
      "\n",
      "e connected to\n",
      "=> d\n",
      "=> c\n",
      "\n",
      "f connected to\n",
      "=> d\n",
      "\n",
      "g connected to\n",
      "No edges!\n"
     ]
    },
    {
     "ename": "NameError",
     "evalue": "name 'a' is not defined",
     "output_type": "error",
     "traceback": [
      "\u001b[0;31m---------------------------------------------------------------------------\u001b[0m",
      "\u001b[0;31mNameError\u001b[0m                                 Traceback (most recent call last)",
      "\u001b[0;32m<ipython-input-8-29e92108b90a>\u001b[0m in \u001b[0;36m<module>\u001b[0;34m()\u001b[0m\n\u001b[1;32m     30\u001b[0m     \u001b[0mg\u001b[0m\u001b[0;34m.\u001b[0m\u001b[0mfind_path\u001b[0m\u001b[0;34m(\u001b[0m\u001b[0ma\u001b[0m\u001b[0;34m,\u001b[0m\u001b[0md\u001b[0m\u001b[0;34m)\u001b[0m\u001b[0;34m\u001b[0m\u001b[0m\n\u001b[1;32m     31\u001b[0m \u001b[0;34m\u001b[0m\u001b[0m\n\u001b[0;32m---> 32\u001b[0;31m \u001b[0mbuild_graph\u001b[0m\u001b[0;34m(\u001b[0m\u001b[0;32mFalse\u001b[0m\u001b[0;34m)\u001b[0m\u001b[0;34m\u001b[0m\u001b[0m\n\u001b[0m",
      "\u001b[0;32m<ipython-input-8-29e92108b90a>\u001b[0m in \u001b[0;36mbuild_graph\u001b[0;34m(directed)\u001b[0m\n\u001b[1;32m     28\u001b[0m \u001b[0;34m\u001b[0m\u001b[0m\n\u001b[1;32m     29\u001b[0m     \u001b[0mprint_graph\u001b[0m\u001b[0;34m(\u001b[0m\u001b[0mg\u001b[0m\u001b[0;34m)\u001b[0m\u001b[0;34m\u001b[0m\u001b[0m\n\u001b[0;32m---> 30\u001b[0;31m     \u001b[0mg\u001b[0m\u001b[0;34m.\u001b[0m\u001b[0mfind_path\u001b[0m\u001b[0;34m(\u001b[0m\u001b[0ma\u001b[0m\u001b[0;34m,\u001b[0m\u001b[0md\u001b[0m\u001b[0;34m)\u001b[0m\u001b[0;34m\u001b[0m\u001b[0m\n\u001b[0m\u001b[1;32m     31\u001b[0m \u001b[0;34m\u001b[0m\u001b[0m\n\u001b[1;32m     32\u001b[0m \u001b[0mbuild_graph\u001b[0m\u001b[0;34m(\u001b[0m\u001b[0;32mFalse\u001b[0m\u001b[0;34m)\u001b[0m\u001b[0;34m\u001b[0m\u001b[0m\n",
      "\u001b[0;31mNameError\u001b[0m: name 'a' is not defined"
     ]
    }
   ],
   "source": [
    "from random import randrange\n",
    "\n",
    "def print_graph(graph):\n",
    "    for vertex in graph.graph_dict:\n",
    "        print(\"\")\n",
    "        print(vertex + \" connected to\")\n",
    "        vertex_neighbors = graph.graph_dict[vertex].edges\n",
    "        if len(vertex_neighbors) == 0:\n",
    "            print(\"No edges!\")\n",
    "        for adjacent_vertex in vertex_neighbors:\n",
    "            print(\"=> \" + adjacent_vertex)\n",
    "            \n",
    "\n",
    "def build_graph(directed):\n",
    "    g = Graph(directed)\n",
    "    vertices = []\n",
    "    for val in ['a', 'b', 'c', 'd', 'e', 'f', 'g']:\n",
    "        vertex = Vertex(val)\n",
    "        vertices.append(vertex)\n",
    "        g.add_vertex(vertex)\n",
    "\n",
    "    for v in range(len(vertices)):\n",
    "        v_idx = randrange(0, len(vertices) - 1)\n",
    "        v1 = vertices[v_idx]\n",
    "        v_idx = randrange(0, len(vertices) - 1)\n",
    "        v2 = vertices[v_idx]\n",
    "        g.add_edge(v1, v2, randrange(1, 10))\n",
    "\n",
    "    print_graph(g)\n",
    "\n",
    "build_graph(False)\n"
   ]
  }
 ],
 "metadata": {
  "kernelspec": {
   "display_name": "Python (Messi)",
   "language": "python",
   "name": "messi"
  },
  "language_info": {
   "codemirror_mode": {
    "name": "ipython",
    "version": 3
   },
   "file_extension": ".py",
   "mimetype": "text/x-python",
   "name": "python",
   "nbconvert_exporter": "python",
   "pygments_lexer": "ipython3",
   "version": "3.6.4"
  }
 },
 "nbformat": 4,
 "nbformat_minor": 2
}
