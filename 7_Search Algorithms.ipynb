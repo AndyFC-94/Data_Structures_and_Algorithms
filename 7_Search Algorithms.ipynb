{
 "cells": [
  {
   "cell_type": "markdown",
   "metadata": {},
   "source": [
    "# SEARCH ALGORITHMS\n",
    "\n",
    "Search algorithms are STEP BY STEP procedures used to locate and retrieve information from a set of data. "
   ]
  },
  {
   "cell_type": "markdown",
   "metadata": {},
   "source": [
    "## Linear Search \n",
    "Also called sequential search, algorithm sequentially checks whether a given a value is an element of a specified list by scanning the elements one by one. It checks all the elements in the list in order from the beginning to end until it finds a target value. "
   ]
  },
  {
   "cell_type": "markdown",
   "metadata": {},
   "source": [
    "### Searching"
   ]
  },
  {
   "cell_type": "code",
   "execution_count": 1,
   "metadata": {},
   "outputs": [
    {
     "name": "stdout",
     "output_type": "stream",
     "text": [
      "100 not in list\n"
     ]
    }
   ],
   "source": [
    "number_list = [ 10, 14, 19, 26, 27, 31, 33, 35, 42, 44]\n",
    "target_number = 100\n",
    "\n",
    "def linear_search(search_list, target_value):\n",
    "    for idx in range(len(search_list)):\n",
    "        if search_list[idx] == target_value:\n",
    "            return idx\n",
    "    raise ValueError(\"{0} not in list\".format(target_value))\n",
    "\n",
    "try:\n",
    "    # Call the function below...\n",
    "    print(linear_search(number_list, target_number))\n",
    "except ValueError as error_message:\n",
    "    print(\"{0}\".format(error_message))"
   ]
  },
  {
   "cell_type": "markdown",
   "metadata": {},
   "source": [
    "### Finding duplicates"
   ]
  },
  {
   "cell_type": "code",
   "execution_count": 2,
   "metadata": {},
   "outputs": [
    {
     "name": "stdout",
     "output_type": "stream",
     "text": [
      "[0, 5]\n"
     ]
    }
   ],
   "source": [
    "# Search list and target value\n",
    "tour_locations = [ \"New York City\", \"Los Angeles\", \"Bangkok\", \"Istanbul\", \"London\", \"New York City\", \"Toronto\"]\n",
    "target_city = \"New York City\"\n",
    "\n",
    "#Linear Search Algorithm\n",
    "def linear_search(search_list, target_value):\n",
    "    matches = []\n",
    "    for idx in range(len(search_list)):\n",
    "        if search_list[idx] == target_value:\n",
    "            matches.append(idx)\n",
    "    if len(matches)== 0:\n",
    "        raise ValueError(\"{0} not in list\".format(target_value))\n",
    "    else: return matches\n",
    "\n",
    "#Function call\n",
    "tour_stops = linear_search(tour_locations, target_city)\n",
    "print(tour_stops)"
   ]
  },
  {
   "cell_type": "markdown",
   "metadata": {},
   "source": [
    "### Finding the maximum value"
   ]
  },
  {
   "cell_type": "code",
   "execution_count": 6,
   "metadata": {},
   "outputs": [
    {
     "name": "stdout",
     "output_type": "stream",
     "text": [
      "3\n",
      "100\n"
     ]
    }
   ],
   "source": [
    "# Search list\n",
    "test_scores = [88, 93, 75, 100, 80, 67, 71, 92, 90, 83]\n",
    "\n",
    "#Linear Search Algorithm\n",
    "def linear_search(search_list):\n",
    "    maximum_score_index = None\n",
    "    for idx in range(len(search_list)):\n",
    "        if not maximum_score_index or search_list[idx] > search_list[maximum_score_index]:\n",
    "            maximum_score_index = idx\n",
    "    return maximum_score_index\n",
    "\n",
    "# Function call\n",
    "highest_score = linear_search(test_scores)\n",
    "\n",
    "#Prints out the highest score in the list\n",
    "print(highest_score)\n",
    "print(test_scores[highest_score])"
   ]
  },
  {
   "cell_type": "markdown",
   "metadata": {},
   "source": [
    "## Binary Search \n",
    "With a sorted data-set, we can take advantage of the ordering to make a sort which is more efficient than going element by element."
   ]
  },
  {
   "cell_type": "markdown",
   "metadata": {},
   "source": [
    "### Using recursion"
   ]
  },
  {
   "cell_type": "code",
   "execution_count": null,
   "metadata": {},
   "outputs": [],
   "source": [
    "# define binary_search()\n",
    "def binary_search(sorted_list, target):\n",
    "    if not sorted_list:\n",
    "        return 'value not found'\n",
    "    mid_idx = len(sorted_list)//2\n",
    "    mid_val = sorted_list[mid_idx]\n",
    "    \n",
    "    if mid_val == target:\n",
    "        return mid_idx\n",
    "    if mid_val > target:\n",
    "        left_half = sorted_list[:mid_idx]\n",
    "        return binary_search(left_half, target)\n",
    "    if mid_val < target:\n",
    "        right_half = sorted_list[mid_idx+1:]\n",
    "        result = binary_search(right_half, target)\n",
    "        \n",
    "    if result == \"value not found\":\n",
    "        return result\n",
    "    else:\n",
    "        return result + mid_idx + 1\n",
    "    \n",
    "# For testing:\n",
    "sorted_values = [13, 14, 15, 16, 17]\n",
    "print(binary_search(sorted_values, 16))"
   ]
  },
  {
   "cell_type": "markdown",
   "metadata": {},
   "source": [
    "### Using recurson and pointers"
   ]
  },
  {
   "cell_type": "code",
   "execution_count": 7,
   "metadata": {},
   "outputs": [
    {
     "name": "stdout",
     "output_type": "stream",
     "text": [
      "element 288 is located at index 4\n"
     ]
    }
   ],
   "source": [
    "def binary_search(sorted_list, left_pointer, right_pointer, target):\n",
    "    # this condition indicates we've reached an empty \"sub-list\"\n",
    "    if left_pointer >= right_pointer:\n",
    "        return \"value not found\"\n",
    "\n",
    "    # We calculate the middle index from the pointers now\n",
    "    mid_idx = (left_pointer + right_pointer) // 2\n",
    "    mid_val = sorted_list[mid_idx]\n",
    "\n",
    "    if mid_val == target:\n",
    "        return mid_idx\n",
    "    if mid_val > target:\n",
    "    # we reduce the sub-list by passing in a new right_pointer\n",
    "        return binary_search(sorted_list, left_pointer, mid_idx, target)\n",
    "    if mid_val < target:\n",
    "    # we reduce the sub-list by passing in a new left_pointer\n",
    "        return binary_search(sorted_list, mid_idx + 1, right_pointer, target)\n",
    "  \n",
    "values = [77, 80, 102, 123, 288, 300, 540]\n",
    "start_of_values = 0\n",
    "end_of_values = len(values)\n",
    "result = binary_search(values, start_of_values, end_of_values, 288)\n",
    "\n",
    "print(\"element {0} is located at index {1}\".format(288, result))"
   ]
  },
  {
   "cell_type": "markdown",
   "metadata": {},
   "source": [
    "### Using loops"
   ]
  },
  {
   "cell_type": "code",
   "execution_count": 8,
   "metadata": {
    "scrolled": true
   },
   "outputs": [
    {
     "name": "stdout",
     "output_type": "stream",
     "text": [
      "4\n",
      "Value not in list\n",
      "3\n",
      "Value not in list\n",
      "1\n"
     ]
    }
   ],
   "source": [
    "def binary_search(sorted_list, target):\n",
    "    left_pointer = 0\n",
    "    right_pointer = len(sorted_list)\n",
    "  \n",
    "    # fill in the condition for the while loop\n",
    "    while left_pointer < right_pointer:\n",
    "        # calculate the middle index using the two pointers\n",
    "        mid_idx = (left_pointer + right_pointer) // 2\n",
    "        mid_val = sorted_list[mid_idx]\n",
    "        if mid_val == target:\n",
    "            return mid_idx\n",
    "        if target < mid_val:\n",
    "        # set the right_pointer to the appropriate value\n",
    "            right_pointer = mid_idx\n",
    "        if target > mid_val:\n",
    "        # set the left_pointer to the appropriate value\n",
    "            left_pointer = mid_idx + 1\n",
    "\n",
    "    return \"Value not in list\"\n",
    "\n",
    "# test cases\n",
    "print(binary_search([5,6,7,8,9], 9))\n",
    "print(binary_search([5,6,7,8,9], 10))\n",
    "print(binary_search([5,6,7,8,9], 8))\n",
    "print(binary_search([5,6,7,8,9], 4))\n",
    "print(binary_search([5,6,7,8,9], 6))"
   ]
  },
  {
   "cell_type": "markdown",
   "metadata": {},
   "source": [
    "### SEARCH PROJECT\n",
    "Search data with empty data in a dataset. We use pointers and loops"
   ]
  },
  {
   "cell_type": "code",
   "execution_count": 2,
   "metadata": {},
   "outputs": [],
   "source": [
    "\n",
    "def sparse_search(data, search_val):\n",
    "    print(\"Data: \" + str(data))\n",
    "    print(\"Search Value: \" + str(search_val))\n",
    "    # Pointers of the list\n",
    "    first = 0\n",
    "    last = len(data)-1\n",
    "    while(first <= last):\n",
    "        mid = (first + last)//2\n",
    "        # If the mid value is empty\n",
    "        if not data[mid]:\n",
    "            left,right = mid - 1, mid + 1\n",
    "            while True:\n",
    "            #Check the value to the right\n",
    "                if (left < first) and (right > last):\n",
    "                    print(\"{0} is not in the dataset\".format(search_val))\n",
    "                    return\n",
    "                #Check the value to the left\n",
    "                elif (right <= last) and data[right]:\n",
    "                    mid = right\n",
    "                    break\n",
    "                elif (left >= first) and data[left]:\n",
    "                    mid = left\n",
    "                    break\n",
    "                else:\n",
    "                    right +=1\n",
    "                    left +=1\n",
    "        # If search_value is at mid position\n",
    "        if data[mid] == search_val:\n",
    "            print(\"{0} found at position {1}\".format(search_val,mid))\n",
    "            return\n",
    "\n",
    "        elif search_val < data[mid]:\n",
    "            last = mid - 1\n",
    "        elif search_val > data[mid]:\n",
    "            first = mid + 1\n",
    "    print(\"{0} is not in the dataset\".format(search_val))\n",
    "          "
   ]
  },
  {
   "cell_type": "code",
   "execution_count": 4,
   "metadata": {},
   "outputs": [
    {
     "name": "stdout",
     "output_type": "stream",
     "text": [
      "Data: ['Alex', '', '', '', '', 'Devan', '', '', 'Elise', '', '', '', 'Gary', '', '', 'Mimi', '', '', 'Parth', '', '', '', 'Zachary']\n",
      "Search Value: Parth\n",
      "Parth found at position 18\n"
     ]
    }
   ],
   "source": [
    "sparse_search([\"Alex\", \"\", \"\", \"\", \"\", \"Devan\", \"\", \"\", \"Elise\", \"\", \"\", \"\", \"Gary\", \"\", \"\", \"Mimi\", \"\", \"\", \"Parth\", \"\", \"\", \"\", \"Zachary\"], \"Parth\")"
   ]
  }
 ],
 "metadata": {
  "kernelspec": {
   "display_name": "Python (Messi)",
   "language": "python",
   "name": "messi"
  },
  "language_info": {
   "codemirror_mode": {
    "name": "ipython",
    "version": 3
   },
   "file_extension": ".py",
   "mimetype": "text/x-python",
   "name": "python",
   "nbconvert_exporter": "python",
   "pygments_lexer": "ipython3",
   "version": "3.6.4"
  }
 },
 "nbformat": 4,
 "nbformat_minor": 2
}
